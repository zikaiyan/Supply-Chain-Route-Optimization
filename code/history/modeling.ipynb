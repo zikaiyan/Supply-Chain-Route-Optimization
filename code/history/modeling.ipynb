{
 "cells": [
  {
   "cell_type": "code",
   "execution_count": 1,
   "metadata": {},
   "outputs": [],
   "source": [
    "# Loading packages\n",
    "using CSV, DataFrames, Gurobi, JuMP"
   ]
  },
  {
   "cell_type": "code",
   "execution_count": 2,
   "metadata": {},
   "outputs": [],
   "source": [
    "# input data\n",
    "order_list = CSV.read(\"input/order_list.csv\", DataFrame)\n",
    "freight_rates = CSV.read(\"input/freight_rates.csv\", DataFrame)\n",
    "wh_costs = CSV.read(\"input/wh_costs.csv\", DataFrame)\n",
    "wh_capacities = CSV.read(\"input/wh_capacities.csv\", DataFrame)\n",
    "products_per_plant = CSV.read(\"input/products_per_plant.csv\", DataFrame)\n",
    "vmi_customers = CSV.read(\"input/vmi_customers.csv\", DataFrame)\n",
    "plant_ports = CSV.read(\"input/plant_ports.csv\", DataFrame);"
   ]
  },
  {
   "cell_type": "code",
   "execution_count": 3,
   "metadata": {},
   "outputs": [
    {
     "data": {
      "text/html": [
       "<div><div style = \"float: left;\"><span>1000×11 DataFrame</span></div><div style = \"float: right;\"><span style = \"font-style: italic;\">975 rows omitted</span></div><div style = \"clear: both;\"></div></div><div class = \"data-frame\" style = \"overflow-x: scroll;\"><table class = \"data-frame\" style = \"margin-bottom: 6px;\"><thead><tr class = \"header\"><th class = \"rowNumber\" style = \"font-weight: bold; text-align: right;\">Row</th><th style = \"text-align: left;\">Order ID</th><th style = \"text-align: left;\">Origin Port</th><th style = \"text-align: left;\">Carrier</th><th style = \"text-align: left;\">Service Level</th><th style = \"text-align: left;\">Customer</th><th style = \"text-align: left;\">Product ID</th><th style = \"text-align: left;\">Plant Code</th><th style = \"text-align: left;\">Destination Port</th><th style = \"text-align: left;\">Unit quantity</th><th style = \"text-align: left;\">Weight</th><th style = \"text-align: left;\">Maximum delivery time</th></tr><tr class = \"subheader headerLastRow\"><th class = \"rowNumber\" style = \"font-weight: bold; text-align: right;\"></th><th title = \"Int64\" style = \"text-align: left;\">Int64</th><th title = \"Int64\" style = \"text-align: left;\">Int64</th><th title = \"Union{Missing, Float64}\" style = \"text-align: left;\">Float64?</th><th title = \"Int64\" style = \"text-align: left;\">Int64</th><th title = \"Int64\" style = \"text-align: left;\">Int64</th><th title = \"Int64\" style = \"text-align: left;\">Int64</th><th title = \"Int64\" style = \"text-align: left;\">Int64</th><th title = \"Int64\" style = \"text-align: left;\">Int64</th><th title = \"Int64\" style = \"text-align: left;\">Int64</th><th title = \"Float64\" style = \"text-align: left;\">Float64</th><th title = \"Int64\" style = \"text-align: left;\">Int64</th></tr></thead><tbody><tr><td class = \"rowNumber\" style = \"font-weight: bold; text-align: right;\">1</td><td style = \"text-align: right;\">5276</td><td style = \"text-align: right;\">9</td><td style = \"font-style: italic; text-align: right;\">missing</td><td style = \"text-align: right;\">0</td><td style = \"text-align: right;\">37</td><td style = \"text-align: right;\">1481</td><td style = \"text-align: right;\">16</td><td style = \"text-align: right;\">1</td><td style = \"text-align: right;\">808</td><td style = \"text-align: right;\">14.3</td><td style = \"text-align: right;\">4</td></tr><tr><td class = \"rowNumber\" style = \"font-weight: bold; text-align: right;\">2</td><td style = \"text-align: right;\">691</td><td style = \"text-align: right;\">9</td><td style = \"font-style: italic; text-align: right;\">missing</td><td style = \"text-align: right;\">0</td><td style = \"text-align: right;\">37</td><td style = \"text-align: right;\">1481</td><td style = \"text-align: right;\">16</td><td style = \"text-align: right;\">1</td><td style = \"text-align: right;\">3188</td><td style = \"text-align: right;\">87.94</td><td style = \"text-align: right;\">4</td></tr><tr><td class = \"rowNumber\" style = \"font-weight: bold; text-align: right;\">3</td><td style = \"text-align: right;\">68</td><td style = \"text-align: right;\">9</td><td style = \"font-style: italic; text-align: right;\">missing</td><td style = \"text-align: right;\">0</td><td style = \"text-align: right;\">37</td><td style = \"text-align: right;\">1481</td><td style = \"text-align: right;\">16</td><td style = \"text-align: right;\">1</td><td style = \"text-align: right;\">2331</td><td style = \"text-align: right;\">61.2</td><td style = \"text-align: right;\">4</td></tr><tr><td class = \"rowNumber\" style = \"font-weight: bold; text-align: right;\">4</td><td style = \"text-align: right;\">7361</td><td style = \"text-align: right;\">9</td><td style = \"font-style: italic; text-align: right;\">missing</td><td style = \"text-align: right;\">0</td><td style = \"text-align: right;\">37</td><td style = \"text-align: right;\">1481</td><td style = \"text-align: right;\">16</td><td style = \"text-align: right;\">1</td><td style = \"text-align: right;\">847</td><td style = \"text-align: right;\">16.16</td><td style = \"text-align: right;\">4</td></tr><tr><td class = \"rowNumber\" style = \"font-weight: bold; text-align: right;\">5</td><td style = \"text-align: right;\">7363</td><td style = \"text-align: right;\">9</td><td style = \"font-style: italic; text-align: right;\">missing</td><td style = \"text-align: right;\">0</td><td style = \"text-align: right;\">37</td><td style = \"text-align: right;\">1481</td><td style = \"text-align: right;\">16</td><td style = \"text-align: right;\">1</td><td style = \"text-align: right;\">2163</td><td style = \"text-align: right;\">52.34</td><td style = \"text-align: right;\">4</td></tr><tr><td class = \"rowNumber\" style = \"font-weight: bold; text-align: right;\">6</td><td style = \"text-align: right;\">7049</td><td style = \"text-align: right;\">9</td><td style = \"font-style: italic; text-align: right;\">missing</td><td style = \"text-align: right;\">0</td><td style = \"text-align: right;\">37</td><td style = \"text-align: right;\">1481</td><td style = \"text-align: right;\">16</td><td style = \"text-align: right;\">1</td><td style = \"text-align: right;\">3332</td><td style = \"text-align: right;\">92.8</td><td style = \"text-align: right;\">4</td></tr><tr><td class = \"rowNumber\" style = \"font-weight: bold; text-align: right;\">7</td><td style = \"text-align: right;\">6059</td><td style = \"text-align: right;\">9</td><td style = \"font-style: italic; text-align: right;\">missing</td><td style = \"text-align: right;\">0</td><td style = \"text-align: right;\">37</td><td style = \"text-align: right;\">1481</td><td style = \"text-align: right;\">16</td><td style = \"text-align: right;\">1</td><td style = \"text-align: right;\">1782</td><td style = \"text-align: right;\">46.9</td><td style = \"text-align: right;\">4</td></tr><tr><td class = \"rowNumber\" style = \"font-weight: bold; text-align: right;\">8</td><td style = \"text-align: right;\">692</td><td style = \"text-align: right;\">9</td><td style = \"font-style: italic; text-align: right;\">missing</td><td style = \"text-align: right;\">0</td><td style = \"text-align: right;\">37</td><td style = \"text-align: right;\">1481</td><td style = \"text-align: right;\">16</td><td style = \"text-align: right;\">1</td><td style = \"text-align: right;\">427</td><td style = \"text-align: right;\">2.86</td><td style = \"text-align: right;\">4</td></tr><tr><td class = \"rowNumber\" style = \"font-weight: bold; text-align: right;\">9</td><td style = \"text-align: right;\">3041</td><td style = \"text-align: right;\">9</td><td style = \"font-style: italic; text-align: right;\">missing</td><td style = \"text-align: right;\">0</td><td style = \"text-align: right;\">37</td><td style = \"text-align: right;\">1481</td><td style = \"text-align: right;\">16</td><td style = \"text-align: right;\">1</td><td style = \"text-align: right;\">1291</td><td style = \"text-align: right;\">26.6</td><td style = \"text-align: right;\">4</td></tr><tr><td class = \"rowNumber\" style = \"font-weight: bold; text-align: right;\">10</td><td style = \"text-align: right;\">8483</td><td style = \"text-align: right;\">9</td><td style = \"font-style: italic; text-align: right;\">missing</td><td style = \"text-align: right;\">0</td><td style = \"text-align: right;\">37</td><td style = \"text-align: right;\">1481</td><td style = \"text-align: right;\">16</td><td style = \"text-align: right;\">1</td><td style = \"text-align: right;\">2294</td><td style = \"text-align: right;\">62.2</td><td style = \"text-align: right;\">4</td></tr><tr><td class = \"rowNumber\" style = \"font-weight: bold; text-align: right;\">11</td><td style = \"text-align: right;\">8002</td><td style = \"text-align: right;\">9</td><td style = \"font-style: italic; text-align: right;\">missing</td><td style = \"text-align: right;\">0</td><td style = \"text-align: right;\">37</td><td style = \"text-align: right;\">1481</td><td style = \"text-align: right;\">16</td><td style = \"text-align: right;\">1</td><td style = \"text-align: right;\">2766</td><td style = \"text-align: right;\">75.5</td><td style = \"text-align: right;\">4</td></tr><tr><td class = \"rowNumber\" style = \"font-weight: bold; text-align: right;\">12</td><td style = \"text-align: right;\">1279</td><td style = \"text-align: right;\">9</td><td style = \"font-style: italic; text-align: right;\">missing</td><td style = \"text-align: right;\">0</td><td style = \"text-align: right;\">37</td><td style = \"text-align: right;\">1481</td><td style = \"text-align: right;\">16</td><td style = \"text-align: right;\">1</td><td style = \"text-align: right;\">798</td><td style = \"text-align: right;\">14.3</td><td style = \"text-align: right;\">4</td></tr><tr><td class = \"rowNumber\" style = \"font-weight: bold; text-align: right;\">13</td><td style = \"text-align: right;\">587</td><td style = \"text-align: right;\">9</td><td style = \"font-style: italic; text-align: right;\">missing</td><td style = \"text-align: right;\">0</td><td style = \"text-align: right;\">37</td><td style = \"text-align: right;\">1303</td><td style = \"text-align: right;\">16</td><td style = \"text-align: right;\">1</td><td style = \"text-align: right;\">739</td><td style = \"text-align: right;\">73.9</td><td style = \"text-align: right;\">4</td></tr><tr><td style = \"text-align: right;\">&vellip;</td><td style = \"text-align: right;\">&vellip;</td><td style = \"text-align: right;\">&vellip;</td><td style = \"text-align: right;\">&vellip;</td><td style = \"text-align: right;\">&vellip;</td><td style = \"text-align: right;\">&vellip;</td><td style = \"text-align: right;\">&vellip;</td><td style = \"text-align: right;\">&vellip;</td><td style = \"text-align: right;\">&vellip;</td><td style = \"text-align: right;\">&vellip;</td><td style = \"text-align: right;\">&vellip;</td><td style = \"text-align: right;\">&vellip;</td></tr><tr><td class = \"rowNumber\" style = \"font-weight: bold; text-align: right;\">989</td><td style = \"text-align: right;\">7341</td><td style = \"text-align: right;\">4</td><td style = \"font-style: italic; text-align: right;\">1.0</td><td style = \"text-align: right;\">1</td><td style = \"text-align: right;\">21</td><td style = \"text-align: right;\">398</td><td style = \"text-align: right;\">12</td><td style = \"text-align: right;\">1</td><td style = \"text-align: right;\">343</td><td style = \"text-align: right;\">23.0</td><td style = \"text-align: right;\">5</td></tr><tr><td class = \"rowNumber\" style = \"font-weight: bold; text-align: right;\">990</td><td style = \"text-align: right;\">7198</td><td style = \"text-align: right;\">4</td><td style = \"font-style: italic; text-align: right;\">1.0</td><td style = \"text-align: right;\">1</td><td style = \"text-align: right;\">21</td><td style = \"text-align: right;\">18</td><td style = \"text-align: right;\">12</td><td style = \"text-align: right;\">1</td><td style = \"text-align: right;\">240</td><td style = \"text-align: right;\">1.75264</td><td style = \"text-align: right;\">5</td></tr><tr><td class = \"rowNumber\" style = \"font-weight: bold; text-align: right;\">991</td><td style = \"text-align: right;\">6796</td><td style = \"text-align: right;\">4</td><td style = \"font-style: italic; text-align: right;\">1.0</td><td style = \"text-align: right;\">1</td><td style = \"text-align: right;\">21</td><td style = \"text-align: right;\">36</td><td style = \"text-align: right;\">12</td><td style = \"text-align: right;\">1</td><td style = \"text-align: right;\">295</td><td style = \"text-align: right;\">0.967464</td><td style = \"text-align: right;\">5</td></tr><tr><td class = \"rowNumber\" style = \"font-weight: bold; text-align: right;\">992</td><td style = \"text-align: right;\">7944</td><td style = \"text-align: right;\">4</td><td style = \"font-style: italic; text-align: right;\">1.0</td><td style = \"text-align: right;\">1</td><td style = \"text-align: right;\">21</td><td style = \"text-align: right;\">36</td><td style = \"text-align: right;\">12</td><td style = \"text-align: right;\">1</td><td style = \"text-align: right;\">236</td><td style = \"text-align: right;\">0.967464</td><td style = \"text-align: right;\">5</td></tr><tr><td class = \"rowNumber\" style = \"font-weight: bold; text-align: right;\">993</td><td style = \"text-align: right;\">5121</td><td style = \"text-align: right;\">4</td><td style = \"font-style: italic; text-align: right;\">1.0</td><td style = \"text-align: right;\">1</td><td style = \"text-align: right;\">21</td><td style = \"text-align: right;\">36</td><td style = \"text-align: right;\">12</td><td style = \"text-align: right;\">1</td><td style = \"text-align: right;\">317</td><td style = \"text-align: right;\">2.90239</td><td style = \"text-align: right;\">5</td></tr><tr><td class = \"rowNumber\" style = \"font-weight: bold; text-align: right;\">994</td><td style = \"text-align: right;\">6650</td><td style = \"text-align: right;\">4</td><td style = \"font-style: italic; text-align: right;\">1.0</td><td style = \"text-align: right;\">1</td><td style = \"text-align: right;\">21</td><td style = \"text-align: right;\">818</td><td style = \"text-align: right;\">12</td><td style = \"text-align: right;\">1</td><td style = \"text-align: right;\">281</td><td style = \"text-align: right;\">0.679784</td><td style = \"text-align: right;\">5</td></tr><tr><td class = \"rowNumber\" style = \"font-weight: bold; text-align: right;\">995</td><td style = \"text-align: right;\">5070</td><td style = \"text-align: right;\">4</td><td style = \"font-style: italic; text-align: right;\">1.0</td><td style = \"text-align: right;\">1</td><td style = \"text-align: right;\">21</td><td style = \"text-align: right;\">7</td><td style = \"text-align: right;\">12</td><td style = \"text-align: right;\">1</td><td style = \"text-align: right;\">386</td><td style = \"text-align: right;\">31.5909</td><td style = \"text-align: right;\">5</td></tr><tr><td class = \"rowNumber\" style = \"font-weight: bold; text-align: right;\">996</td><td style = \"text-align: right;\">2957</td><td style = \"text-align: right;\">4</td><td style = \"font-style: italic; text-align: right;\">1.0</td><td style = \"text-align: right;\">1</td><td style = \"text-align: right;\">21</td><td style = \"text-align: right;\">7</td><td style = \"text-align: right;\">12</td><td style = \"text-align: right;\">1</td><td style = \"text-align: right;\">317</td><td style = \"text-align: right;\">11.6</td><td style = \"text-align: right;\">5</td></tr><tr><td class = \"rowNumber\" style = \"font-weight: bold; text-align: right;\">997</td><td style = \"text-align: right;\">4347</td><td style = \"text-align: right;\">4</td><td style = \"font-style: italic; text-align: right;\">1.0</td><td style = \"text-align: right;\">1</td><td style = \"text-align: right;\">21</td><td style = \"text-align: right;\">85</td><td style = \"text-align: right;\">12</td><td style = \"text-align: right;\">1</td><td style = \"text-align: right;\">348</td><td style = \"text-align: right;\">1.74093</td><td style = \"text-align: right;\">5</td></tr><tr><td class = \"rowNumber\" style = \"font-weight: bold; text-align: right;\">998</td><td style = \"text-align: right;\">5309</td><td style = \"text-align: right;\">4</td><td style = \"font-style: italic; text-align: right;\">1.0</td><td style = \"text-align: right;\">1</td><td style = \"text-align: right;\">21</td><td style = \"text-align: right;\">85</td><td style = \"text-align: right;\">12</td><td style = \"text-align: right;\">1</td><td style = \"text-align: right;\">335</td><td style = \"text-align: right;\">0.261139</td><td style = \"text-align: right;\">5</td></tr><tr><td class = \"rowNumber\" style = \"font-weight: bold; text-align: right;\">999</td><td style = \"text-align: right;\">6649</td><td style = \"text-align: right;\">4</td><td style = \"font-style: italic; text-align: right;\">1.0</td><td style = \"text-align: right;\">1</td><td style = \"text-align: right;\">21</td><td style = \"text-align: right;\">779</td><td style = \"text-align: right;\">12</td><td style = \"text-align: right;\">1</td><td style = \"text-align: right;\">251</td><td style = \"text-align: right;\">2.1</td><td style = \"text-align: right;\">5</td></tr><tr><td class = \"rowNumber\" style = \"font-weight: bold; text-align: right;\">1000</td><td style = \"text-align: right;\">2131</td><td style = \"text-align: right;\">4</td><td style = \"font-style: italic; text-align: right;\">1.0</td><td style = \"text-align: right;\">1</td><td style = \"text-align: right;\">21</td><td style = \"text-align: right;\">4</td><td style = \"text-align: right;\">12</td><td style = \"text-align: right;\">1</td><td style = \"text-align: right;\">1289</td><td style = \"text-align: right;\">184.879</td><td style = \"text-align: right;\">5</td></tr></tbody></table></div>"
      ],
      "text/latex": [
       "\\begin{tabular}{r|cccccccc}\n",
       "\t& Order ID & Origin Port & Carrier & Service Level & Customer & Product ID & Plant Code & \\\\\n",
       "\t\\hline\n",
       "\t& Int64 & Int64 & Float64? & Int64 & Int64 & Int64 & Int64 & \\\\\n",
       "\t\\hline\n",
       "\t1 & 5276 & 9 & \\emph{missing} & 0 & 37 & 1481 & 16 & $\\dots$ \\\\\n",
       "\t2 & 691 & 9 & \\emph{missing} & 0 & 37 & 1481 & 16 & $\\dots$ \\\\\n",
       "\t3 & 68 & 9 & \\emph{missing} & 0 & 37 & 1481 & 16 & $\\dots$ \\\\\n",
       "\t4 & 7361 & 9 & \\emph{missing} & 0 & 37 & 1481 & 16 & $\\dots$ \\\\\n",
       "\t5 & 7363 & 9 & \\emph{missing} & 0 & 37 & 1481 & 16 & $\\dots$ \\\\\n",
       "\t6 & 7049 & 9 & \\emph{missing} & 0 & 37 & 1481 & 16 & $\\dots$ \\\\\n",
       "\t7 & 6059 & 9 & \\emph{missing} & 0 & 37 & 1481 & 16 & $\\dots$ \\\\\n",
       "\t8 & 692 & 9 & \\emph{missing} & 0 & 37 & 1481 & 16 & $\\dots$ \\\\\n",
       "\t9 & 3041 & 9 & \\emph{missing} & 0 & 37 & 1481 & 16 & $\\dots$ \\\\\n",
       "\t10 & 8483 & 9 & \\emph{missing} & 0 & 37 & 1481 & 16 & $\\dots$ \\\\\n",
       "\t11 & 8002 & 9 & \\emph{missing} & 0 & 37 & 1481 & 16 & $\\dots$ \\\\\n",
       "\t12 & 1279 & 9 & \\emph{missing} & 0 & 37 & 1481 & 16 & $\\dots$ \\\\\n",
       "\t13 & 587 & 9 & \\emph{missing} & 0 & 37 & 1303 & 16 & $\\dots$ \\\\\n",
       "\t14 & 4115 & 9 & \\emph{missing} & 0 & 37 & 1303 & 16 & $\\dots$ \\\\\n",
       "\t15 & 3778 & 9 & \\emph{missing} & 0 & 37 & 1303 & 16 & $\\dots$ \\\\\n",
       "\t16 & 4112 & 9 & \\emph{missing} & 0 & 37 & 1303 & 16 & $\\dots$ \\\\\n",
       "\t17 & 4202 & 9 & \\emph{missing} & 0 & 37 & 1303 & 16 & $\\dots$ \\\\\n",
       "\t18 & 74 & 9 & \\emph{missing} & 0 & 37 & 1303 & 16 & $\\dots$ \\\\\n",
       "\t19 & 5755 & 9 & \\emph{missing} & 0 & 37 & 1303 & 16 & $\\dots$ \\\\\n",
       "\t20 & 2132 & 9 & \\emph{missing} & 0 & 37 & 1303 & 16 & $\\dots$ \\\\\n",
       "\t21 & 2137 & 9 & \\emph{missing} & 0 & 37 & 1367 & 16 & $\\dots$ \\\\\n",
       "\t22 & 7089 & 9 & \\emph{missing} & 0 & 37 & 1538 & 16 & $\\dots$ \\\\\n",
       "\t23 & 2853 & 9 & \\emph{missing} & 0 & 37 & 1368 & 16 & $\\dots$ \\\\\n",
       "\t24 & 3564 & 9 & \\emph{missing} & 0 & 37 & 1368 & 16 & $\\dots$ \\\\\n",
       "\t25 & 2576 & 9 & \\emph{missing} & 0 & 37 & 1367 & 16 & $\\dots$ \\\\\n",
       "\t26 & 7435 & 9 & \\emph{missing} & 0 & 37 & 1540 & 16 & $\\dots$ \\\\\n",
       "\t27 & 677 & 9 & \\emph{missing} & 0 & 37 & 1367 & 16 & $\\dots$ \\\\\n",
       "\t28 & 8481 & 9 & \\emph{missing} & 0 & 37 & 1538 & 16 & $\\dots$ \\\\\n",
       "\t29 & 7910 & 9 & \\emph{missing} & 0 & 37 & 1538 & 16 & $\\dots$ \\\\\n",
       "\t30 & 4114 & 9 & \\emph{missing} & 0 & 37 & 1368 & 16 & $\\dots$ \\\\\n",
       "\t$\\dots$ & $\\dots$ & $\\dots$ & $\\dots$ & $\\dots$ & $\\dots$ & $\\dots$ & $\\dots$ &  \\\\\n",
       "\\end{tabular}\n"
      ],
      "text/plain": [
       "\u001b[1m1000×11 DataFrame\n",
       "\u001b[1m  Row │\u001b[1m Order ID \u001b[1m Origin Port \u001b[1m Carrier   \u001b[1m Service Level \u001b[1m Customer \u001b[1m Product ID \u001b[1m ⋯\n",
       "      │\u001b[90m Int64    \u001b[90m Int64       \u001b[90m Float64?  \u001b[90m Int64         \u001b[90m Int64    \u001b[90m Int64      \u001b[90m ⋯\n",
       "──────┼─────────────────────────────────────────────────────────────────────────\n",
       "    1 │     5276            9 \u001b[90m missing                0        37        1481  ⋯\n",
       "    2 │      691            9 \u001b[90m missing                0        37        1481\n",
       "    3 │       68            9 \u001b[90m missing                0        37        1481\n",
       "    4 │     7361            9 \u001b[90m missing                0        37        1481\n",
       "    5 │     7363            9 \u001b[90m missing                0        37        1481  ⋯\n",
       "    6 │     7049            9 \u001b[90m missing                0        37        1481\n",
       "    7 │     6059            9 \u001b[90m missing                0        37        1481\n",
       "    8 │      692            9 \u001b[90m missing                0        37        1481\n",
       "    9 │     3041            9 \u001b[90m missing                0        37        1481  ⋯\n",
       "   10 │     8483            9 \u001b[90m missing                0        37        1481\n",
       "   11 │     8002            9 \u001b[90m missing                0        37        1481\n",
       "  ⋮   │    ⋮           ⋮           ⋮            ⋮           ⋮          ⋮       ⋱\n",
       "  991 │     6796            4        1.0              1        21          36\n",
       "  992 │     7944            4        1.0              1        21          36  ⋯\n",
       "  993 │     5121            4        1.0              1        21          36\n",
       "  994 │     6650            4        1.0              1        21         818\n",
       "  995 │     5070            4        1.0              1        21           7\n",
       "  996 │     2957            4        1.0              1        21           7  ⋯\n",
       "  997 │     4347            4        1.0              1        21          85\n",
       "  998 │     5309            4        1.0              1        21          85\n",
       "  999 │     6649            4        1.0              1        21         779\n",
       " 1000 │     2131            4        1.0              1        21           4  ⋯\n",
       "\u001b[36m                                                  5 columns and 979 rows omitted"
      ]
     },
     "execution_count": 3,
     "metadata": {},
     "output_type": "execute_result"
    }
   ],
   "source": [
    "order_list = order_list[1:1000, :]"
   ]
  },
  {
   "cell_type": "code",
   "execution_count": 4,
   "metadata": {},
   "outputs": [],
   "source": [
    "# Extract information from input data\n",
    "## numbers\n",
    "norder = 1000 # number of all the orders\n",
    "nwarehouse = 19 # number of all the warehouses\n",
    "nfreight = 1540 # number of all the freight choices\n",
    "nproduct = 1540 # number of all the products\n",
    "ncustomer = 48 # number of all the customers\n",
    "nwport = 11 # number of all the warehouse ports\n",
    "# Well done!!!\n",
    "\n",
    "## data\n",
    "### from order list sheet\n",
    "s = Vector(order_list[!, \"Service Level\"]) # service level s[k]\n",
    "q = Vector(order_list[!, \"Unit quantity\"]) # product quantity q[k] for order k\n",
    "pro = Vector(order_list[!, \"Product ID\"]) # product id for order k\n",
    "cus = Vector(order_list[!, \"Customer\"]) # customer id for order k\n",
    "ot = Vector(order_list[!, \"Maximum delivery time\"]) # maximum delivery time for order k\n",
    "ow = Vector(order_list[!, \"Weight\"]) # order weight for order k\n",
    "\n",
    "### from freight rates sheet\n",
    "o = Vector(freight_rates[!, \"orig_port_cd\"]) # origin port o[j]\n",
    "d = Vector(freight_rates[!, \"dest_port_cd\"]) # destination port d[j]\n",
    "c = Vector(freight_rates[!, \"Carrier\"]) # Carrier c[j]\n",
    "a = Vector(freight_rates[!, \"Area\"]) # storage area number a[j]\n",
    "t = Vector(freight_rates[!, \"tpt_day_cnt\"]) # delivery time p[j]\n",
    "m = Vector(freight_rates[!, \"mode_dsc\"]) # transportation mode m[j]\n",
    "r = Vector(freight_rates[!, \"rate\"]) # transportation rate cost per unit product r[j]\n",
    "minc = Vector(freight_rates[!, \"minimum cost\"]); # minimum transportation rate cost per unit product r[j]\n",
    "minw = Vector(freight_rates[!, \"minm_wgh_qty\"]); # minimum transportation weight\n",
    "maxw = Vector(freight_rates[!, \"max_wgh_qty\"]); # maximum transportation weight\n",
    "\n",
    "## from warehouse capacities sheet\n",
    "cap = Vector(wh_capacities[!, \"Daily Capacity\"])\n",
    "\n",
    "## from warehouse costs sheet\n",
    "p = Vector(wh_costs[!, \"Cost/unit\"]) # warehouse p[i]\n",
    "\n",
    "## Big-M\n",
    "M = 1;"
   ]
  },
  {
   "cell_type": "code",
   "execution_count": 5,
   "metadata": {},
   "outputs": [],
   "source": [
    "# create PW_{ui}\n",
    "## create a list for the products per warehouse\n",
    "products_per_warehouse_list = []\n",
    "for i in 1:size(products_per_plant, 1)\n",
    "    push!(products_per_warehouse_list, (products_per_plant[i, 1], products_per_plant[i, 2]))\n",
    "end\n",
    "\n",
    "## create a matrix for the products per plant\n",
    "PW = zeros(Int, nproduct, nwarehouse)\n",
    "for (i, u) in products_per_warehouse_list\n",
    "    PW[u, i] = 1\n",
    "end\n",
    "\n",
    "# create WP_{ie}\n",
    "## create a list for the warehouse port per warehouse\n",
    "warehouse_port_per_warehouse_list = []\n",
    "for i in 1:size(plant_ports, 1)\n",
    "    push!(warehouse_port_per_warehouse_list, (plant_ports[i, 1], plant_ports[i, 2]))\n",
    "end\n",
    "\n",
    "## create a matrix for the warehouse port per warehouse\n",
    "WP = zeros(Int, nwarehouse, nwport)\n",
    "for (i, e) in warehouse_port_per_warehouse_list\n",
    "    WP[i, e] = 1\n",
    "end\n",
    "\n",
    "# create WC_{iv}\n",
    "## create a list for the customers per warehouse\n",
    "customers_per_warehouse_list = []\n",
    "for i in 1:size(vmi_customers, 1)\n",
    "    push!(customers_per_warehouse_list, (vmi_customers[i, 1], vmi_customers[i, 2]))\n",
    "end\n",
    "\n",
    "## create a matrix for the customers per warehouse\n",
    "WC = zeros(Int, nwarehouse, ncustomer)\n",
    "for (i, v) in customers_per_warehouse_list\n",
    "    WC[i, v] = 1\n",
    "end"
   ]
  },
  {
   "cell_type": "code",
   "execution_count": 6,
   "metadata": {
    "tags": []
   },
   "outputs": [
    {
     "data": {
      "text/plain": [
       "1540-element Vector{Int64}:\n",
       " 8\n",
       " 8\n",
       " 8\n",
       " 8\n",
       " 8\n",
       " 8\n",
       " 8\n",
       " 8\n",
       " 8\n",
       " 8\n",
       " 8\n",
       " 8\n",
       " 8\n",
       " ⋮\n",
       " 4\n",
       " 4\n",
       " 2\n",
       " 2\n",
       " 2\n",
       " 2\n",
       " 2\n",
       " 3\n",
       " 3\n",
       " 3\n",
       " 3\n",
       " 3"
      ]
     },
     "execution_count": 6,
     "metadata": {},
     "output_type": "execute_result"
    }
   ],
   "source": [
    "o"
   ]
  },
  {
   "cell_type": "code",
   "execution_count": 7,
   "metadata": {},
   "outputs": [
    {
     "name": "stdout",
     "output_type": "stream",
     "text": [
      "Set parameter Username\n",
      "Academic license - for non-commercial use only - expires 2024-08-17\n"
     ]
    },
    {
     "data": {
      "text/plain": [
       "A JuMP Model\n",
       "Feasibility problem with:\n",
       "Variables: 0\n",
       "Model mode: AUTOMATIC\n",
       "CachingOptimizer state: EMPTY_OPTIMIZER\n",
       "Solver name: Gurobi"
      ]
     },
     "execution_count": 7,
     "metadata": {},
     "output_type": "execute_result"
    }
   ],
   "source": [
    "# Build the model\n",
    "# create a model\n",
    "model = Model(Gurobi.Optimizer)"
   ]
  },
  {
   "cell_type": "code",
   "execution_count": 8,
   "metadata": {},
   "outputs": [],
   "source": [
    "# define decision variables\n",
    "@variable(model, X[1:norder, 1:nwarehouse], Bin) # X[k,i] = 1 if order k is assigned to warehouse i\n",
    "@variable(model, Y[1:norder, 1:nfreight], Bin) # Y[k,f] = 1 if order k is assigned to freight f\n",
    "\n",
    "# define other variables\n",
    "@variable(model, TC[1:norder, 1:nfreight]>=0) # Transportation cost TC[k, j] of order k assigned to freight j\n",
    "@variable(model, TCA[1:norder, 1:nfreight]>=0) # Air transportation cost TCA[k, j] of order k assigned to freight j\n",
    "@variable(model, TCG[1:nfreight]>=0) # Ground transportation cost TCG[j] for all routes j\n",
    "@variable(model, z[1:nfreight]>=0);"
   ]
  },
  {
   "cell_type": "markdown",
   "metadata": {},
   "source": [
    "$$\n",
    "\\text{Objective} = \\min (\\text{Warehouse Cost} + \\text{Transportation Cost}) \\\\\n",
    "\\min \\sum_{k=1}^{n_{\\text{order}}}\\sum_{i=1}^{n_{\\text{warehouse}}} X_{ki} \\cdot p_{i} \\cdot q_{k} + \\sum_{k=1}^{n_{\\text{order}}}\\sum_{j=1}^{n_{\\text{freight}}} Y_{kj} \\cdot TC_{kj}\n",
    "$$"
   ]
  },
  {
   "cell_type": "code",
   "execution_count": 9,
   "metadata": {},
   "outputs": [],
   "source": [
    "# define the objective function\n",
    "@objective(model, Min, sum(X[k, i] * p[i] * q[k] for i in 1:nwarehouse for k in 1:norder) + sum(Y[k, j] * TC[k, j] for k in 1:norder for j in 1:nfreight));"
   ]
  },
  {
   "cell_type": "markdown",
   "metadata": {},
   "source": [
    "- each order needs to be assigned to a warehouse\n",
    "$$\n",
    "\\sum_{i=1}^{n_{\\text{warehouse}}} X_{ki} = 1, \\forall k\n",
    "$$"
   ]
  },
  {
   "cell_type": "code",
   "execution_count": 10,
   "metadata": {},
   "outputs": [],
   "source": [
    "@constraint(model, warehouse_allocation_constraint[k in 1:norder], sum(X[k,i] for i in 1:nwarehouse) == 1);"
   ]
  },
  {
   "cell_type": "markdown",
   "metadata": {
    "tags": []
   },
   "source": [
    "- each order needs to be assigned to a freight assignment\n",
    "$$\n",
    "\\sum_{j=1}^{n_{\\text{freight}}} Y_{kj} = 1, \\forall k\n",
    "$$"
   ]
  },
  {
   "cell_type": "code",
   "execution_count": 11,
   "metadata": {},
   "outputs": [],
   "source": [
    "@constraint(model, freight_constraint[k in 1:norder], sum(Y[k,j] for j in 1:nfreight) == 1);"
   ]
  },
  {
   "cell_type": "markdown",
   "metadata": {},
   "source": [
    "- each warehouse has a daily order capacity \n",
    "$$\n",
    "\\sum_{k=1}^{n_{\\text{order}}} X_{ki} \\leq cap_{i}, \\forall i\n",
    "$$"
   ]
  },
  {
   "cell_type": "code",
   "execution_count": 12,
   "metadata": {},
   "outputs": [],
   "source": [
    "@constraint(model, order_capacity_constraint[i in 1:nwarehouse], sum(X[k,i] for k in 1:norder) <= cap[i]);"
   ]
  },
  {
   "cell_type": "markdown",
   "metadata": {},
   "source": [
    "- each product can be stored in some warehouses only\n",
    "$$\n",
    "X_{ki} \\leq M(PW_{pro_{k}i}), \\forall k,i\n",
    "$$"
   ]
  },
  {
   "cell_type": "code",
   "execution_count": 13,
   "metadata": {},
   "outputs": [],
   "source": [
    "@constraint(model, warehouse_prod_constraint[k in 1:norder, i in 1:nwarehouse], X[k,i] <= M*PW[pro[k],i]);"
   ]
  },
  {
   "cell_type": "markdown",
   "metadata": {},
   "source": [
    "- some warehouses can only service certain customers\n",
    "$$\n",
    "X_{ki} \\leq M(WC_{icus_{k}}), \\forall k,i\n",
    "$$"
   ]
  },
  {
   "cell_type": "code",
   "execution_count": 14,
   "metadata": {},
   "outputs": [],
   "source": [
    "# @constraint(model, warehouse_cus_constraint[k in 1:norder, i in 1:nwarehouse], X[k,i] <= M*WC[i,cus[k]]);"
   ]
  },
  {
   "cell_type": "markdown",
   "metadata": {},
   "source": [
    "- each warehouse can only begin transporting things via some specific warehouse ports\n",
    "$$\n",
    "Y_{kj} \\leq M(1-X_{ki}+WP_{io_{j}}), \\forall k,i,j\n",
    "$$"
   ]
  },
  {
   "cell_type": "code",
   "execution_count": 15,
   "metadata": {},
   "outputs": [],
   "source": [
    "@constraint(model, warehouse_wport_constraint[k in 1:norder, i in 1:nwarehouse, j in 1:nfreight], Y[k,j] <= M*(1-X[k,i]+WP[i,o[j]]));"
   ]
  },
  {
   "cell_type": "markdown",
   "metadata": {},
   "source": [
    "- orders need to be shipped within a certain time to the customer\n",
    "$$\n",
    "\\sum_{j=1}^{n_{\\text{freight}}} Y_{kj} \\cdot t_{j} \\leq ot_{k}, \\forall k\n",
    "$$"
   ]
  },
  {
   "cell_type": "code",
   "execution_count": 16,
   "metadata": {},
   "outputs": [],
   "source": [
    "# @constraint(model, shipping_constraint[k in 1:norder], sum(Y[k,j]*t[j] for j in 1:nfreight) <= ot[k]);"
   ]
  },
  {
   "cell_type": "markdown",
   "metadata": {},
   "source": [
    "- for each route via a carrier, different parts of the carrier should meet a maximum weight\n",
    "$$\n",
    "\\sum_{k=1}^{n_{\\text{order}}} Y_{kj} \\cdot ow_{k} \\leq maxw_{j}, \\forall j\n",
    "$$"
   ]
  },
  {
   "cell_type": "code",
   "execution_count": 17,
   "metadata": {},
   "outputs": [],
   "source": [
    "@constraint(model, weight_constraint[j in 1:nfreight], sum(Y[k,j]*ow[k] for k in 1:norder) <= maxw[j]);"
   ]
  },
  {
   "cell_type": "markdown",
   "metadata": {},
   "source": [
    "- total transportation cost\n",
    "$$\n",
    "TC_{kj} \\leq s_{k}[(1-m_{j}) \\cdot TCA_{kj} + m_{j} \\cdot TCG_{j}], \\forall k, j\n",
    "$$"
   ]
  },
  {
   "cell_type": "code",
   "execution_count": 18,
   "metadata": {},
   "outputs": [],
   "source": [
    "@constraint(model, transportation_cost_constraint[k in 1:norder, j in 1:nfreight], TC[k,j] <= s[k]*((1-m[j])*TCA[k,j] + m[j]*TCG[j]));"
   ]
  },
  {
   "cell_type": "markdown",
   "metadata": {},
   "source": [
    "- air transportation cost \n",
    "$$\n",
    "minc_{j} \\leq TCA_{kj}, \\forall k, j\n",
    "$$\n",
    "$$\n",
    "ow_{k} \\cdot r_{j} \\leq TCA_{kj}, \\forall k, j\n",
    "$$"
   ]
  },
  {
   "cell_type": "code",
   "execution_count": 19,
   "metadata": {},
   "outputs": [],
   "source": [
    "@constraint(model, air_mincost_constraint[k in 1:norder, j in 1:nfreight], TCA[k,j] >= minc[j]);\n",
    "@constraint(model, air_minweight_constraint[k in 1:norder, j in 1:nfreight], TCA[k,j] >= ow[k]*r[j]);"
   ]
  },
  {
   "cell_type": "markdown",
   "metadata": {},
   "source": [
    "- ground transportation cost\n",
    "$$\n",
    "z_{j}r_{j} \\leq TCG_{j}, \\forall j\n",
    "$$\n",
    "$$\n",
    "z_{j} \\leq \\sum_{k=1}^{n_{\\text{order}}} Y_{kj}, \\forall j\n",
    "$$\n",
    "$$\n",
    "Y_{kj} \\leq z_{j}, \\forall k, j\n",
    "$$"
   ]
  },
  {
   "cell_type": "code",
   "execution_count": 20,
   "metadata": {},
   "outputs": [],
   "source": [
    "@constraint(model, ground_cost_constraint1[j in 1:nfreight], z[j]*r[j] <= TCG[j]);\n",
    "@constraint(model, ground_cost_constraint2[j in 1:nfreight], z[j] <= sum(Y[k,j] for k in 1:norder));\n",
    "@constraint(model, ground_cost_constraint3[k in 1:norder, j in 1:nfreight], z[j] >= Y[k,j]);"
   ]
  },
  {
   "cell_type": "code",
   "execution_count": null,
   "metadata": {},
   "outputs": [],
   "source": [
    "# solve the model\n",
    "optimize!(model)"
   ]
  },
  {
   "cell_type": "code",
   "execution_count": null,
   "metadata": {},
   "outputs": [],
   "source": [
    "# # Retrieve the objective value\n",
    "objective = JuMP.objective_value(model)"
   ]
  },
  {
   "cell_type": "code",
   "execution_count": null,
   "metadata": {
    "tags": []
   },
   "outputs": [],
   "source": [
    "# # Retrieve the solution\n",
    "solution_X = JuMP.value.(X)\n",
    "solution_Y = JuMP.value.(Y)"
   ]
  },
  {
   "cell_type": "code",
   "execution_count": null,
   "metadata": {
    "tags": []
   },
   "outputs": [],
   "source": [
    "sum_warehouse = vec(sum(solution_X, dims=1))"
   ]
  },
  {
   "cell_type": "code",
   "execution_count": null,
   "metadata": {
    "tags": []
   },
   "outputs": [],
   "source": [
    "sum_freight = vec(sum(solution_Y, dims=1))"
   ]
  },
  {
   "cell_type": "code",
   "execution_count": null,
   "metadata": {
    "tags": []
   },
   "outputs": [],
   "source": [
    "CSV.write(\"output/Y.csv\", DataFrame(Vector=sum_freight))"
   ]
  },
  {
   "cell_type": "code",
   "execution_count": null,
   "metadata": {},
   "outputs": [],
   "source": []
  }
 ],
 "metadata": {
  "kernelspec": {
   "display_name": "Julia 1.9.2",
   "language": "julia",
   "name": "julia-1.9"
  },
  "language_info": {
   "file_extension": ".jl",
   "mimetype": "application/julia",
   "name": "julia",
   "version": "1.9.3"
  }
 },
 "nbformat": 4,
 "nbformat_minor": 4
}
