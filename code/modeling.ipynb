{
 "cells": [
  {
   "cell_type": "code",
   "execution_count": 1,
   "metadata": {
    "tags": []
   },
   "outputs": [],
   "source": [
    "# Loading packages\n",
    "using CSV, DataFrames, Gurobi, JuMP, Random"
   ]
  },
  {
   "cell_type": "code",
   "execution_count": 2,
   "metadata": {},
   "outputs": [],
   "source": [
    "# input data\n",
    "order_list = CSV.read(\"input/order_list.csv\", DataFrame)\n",
    "freight_rates = CSV.read(\"input/freight_rates.csv\", DataFrame)\n",
    "wh_costs = CSV.read(\"input/wh_costs.csv\", DataFrame)\n",
    "wh_capacities = CSV.read(\"input/wh_capacities.csv\", DataFrame)\n",
    "products_per_plant = CSV.read(\"input/products_per_plant.csv\", DataFrame)\n",
    "vmi_customers = CSV.read(\"input/vmi_customers.csv\", DataFrame)\n",
    "plant_ports = CSV.read(\"input/plant_ports.csv\", DataFrame);"
   ]
  },
  {
   "cell_type": "code",
   "execution_count": 3,
   "metadata": {},
   "outputs": [
    {
     "data": {
      "text/html": [
       "<div><div style = \"float: left;\"><span>1000×11 DataFrame</span></div><div style = \"float: right;\"><span style = \"font-style: italic;\">975 rows omitted</span></div><div style = \"clear: both;\"></div></div><div class = \"data-frame\" style = \"overflow-x: scroll;\"><table class = \"data-frame\" style = \"margin-bottom: 6px;\"><thead><tr class = \"header\"><th class = \"rowNumber\" style = \"font-weight: bold; text-align: right;\">Row</th><th style = \"text-align: left;\">Order ID</th><th style = \"text-align: left;\">Origin Port</th><th style = \"text-align: left;\">Carrier</th><th style = \"text-align: left;\">Service Level</th><th style = \"text-align: left;\">Customer</th><th style = \"text-align: left;\">Product ID</th><th style = \"text-align: left;\">Plant Code</th><th style = \"text-align: left;\">Destination Port</th><th style = \"text-align: left;\">Unit quantity</th><th style = \"text-align: left;\">Weight</th><th style = \"text-align: left;\">Maximum delivery time</th></tr><tr class = \"subheader headerLastRow\"><th class = \"rowNumber\" style = \"font-weight: bold; text-align: right;\"></th><th title = \"Int64\" style = \"text-align: left;\">Int64</th><th title = \"Int64\" style = \"text-align: left;\">Int64</th><th title = \"Union{Missing, Float64}\" style = \"text-align: left;\">Float64?</th><th title = \"Int64\" style = \"text-align: left;\">Int64</th><th title = \"Int64\" style = \"text-align: left;\">Int64</th><th title = \"Int64\" style = \"text-align: left;\">Int64</th><th title = \"Int64\" style = \"text-align: left;\">Int64</th><th title = \"Int64\" style = \"text-align: left;\">Int64</th><th title = \"Int64\" style = \"text-align: left;\">Int64</th><th title = \"Float64\" style = \"text-align: left;\">Float64</th><th title = \"Int64\" style = \"text-align: left;\">Int64</th></tr></thead><tbody><tr><td class = \"rowNumber\" style = \"font-weight: bold; text-align: right;\">1</td><td style = \"text-align: right;\">1755</td><td style = \"text-align: right;\">4</td><td style = \"text-align: right;\">1.0</td><td style = \"text-align: right;\">1</td><td style = \"text-align: right;\">21</td><td style = \"text-align: right;\">1198</td><td style = \"text-align: right;\">3</td><td style = \"text-align: right;\">1</td><td style = \"text-align: right;\">1287</td><td style = \"text-align: right;\">5.82851</td><td style = \"text-align: right;\">7</td></tr><tr><td class = \"rowNumber\" style = \"font-weight: bold; text-align: right;\">2</td><td style = \"text-align: right;\">1522</td><td style = \"text-align: right;\">4</td><td style = \"text-align: right;\">1.0</td><td style = \"text-align: right;\">1</td><td style = \"text-align: right;\">32</td><td style = \"text-align: right;\">259</td><td style = \"text-align: right;\">3</td><td style = \"text-align: right;\">1</td><td style = \"text-align: right;\">880</td><td style = \"text-align: right;\">9.36</td><td style = \"text-align: right;\">7</td></tr><tr><td class = \"rowNumber\" style = \"font-weight: bold; text-align: right;\">3</td><td style = \"text-align: right;\">5532</td><td style = \"text-align: right;\">4</td><td style = \"text-align: right;\">1.0</td><td style = \"text-align: right;\">1</td><td style = \"text-align: right;\">15</td><td style = \"text-align: right;\">920</td><td style = \"text-align: right;\">3</td><td style = \"text-align: right;\">1</td><td style = \"text-align: right;\">1256</td><td style = \"text-align: right;\">18.42</td><td style = \"text-align: right;\">4</td></tr><tr><td class = \"rowNumber\" style = \"font-weight: bold; text-align: right;\">4</td><td style = \"text-align: right;\">8228</td><td style = \"text-align: right;\">4</td><td style = \"text-align: right;\">1.0</td><td style = \"text-align: right;\">1</td><td style = \"text-align: right;\">35</td><td style = \"text-align: right;\">235</td><td style = \"text-align: right;\">3</td><td style = \"text-align: right;\">1</td><td style = \"text-align: right;\">363</td><td style = \"text-align: right;\">0.348672</td><td style = \"text-align: right;\">4</td></tr><tr><td class = \"rowNumber\" style = \"font-weight: bold; text-align: right;\">5</td><td style = \"text-align: right;\">3840</td><td style = \"text-align: right;\">4</td><td style = \"text-align: right;\">2.0</td><td style = \"text-align: right;\">1</td><td style = \"text-align: right;\">2</td><td style = \"text-align: right;\">394</td><td style = \"text-align: right;\">3</td><td style = \"text-align: right;\">1</td><td style = \"text-align: right;\">1276</td><td style = \"text-align: right;\">2.64163</td><td style = \"text-align: right;\">4</td></tr><tr><td class = \"rowNumber\" style = \"font-weight: bold; text-align: right;\">6</td><td style = \"text-align: right;\">5576</td><td style = \"text-align: right;\">4</td><td style = \"text-align: right;\">1.0</td><td style = \"text-align: right;\">1</td><td style = \"text-align: right;\">21</td><td style = \"text-align: right;\">288</td><td style = \"text-align: right;\">3</td><td style = \"text-align: right;\">1</td><td style = \"text-align: right;\">247</td><td style = \"text-align: right;\">1.21013</td><td style = \"text-align: right;\">4</td></tr><tr><td class = \"rowNumber\" style = \"font-weight: bold; text-align: right;\">7</td><td style = \"text-align: right;\">8086</td><td style = \"text-align: right;\">4</td><td style = \"text-align: right;\">2.0</td><td style = \"text-align: right;\">1</td><td style = \"text-align: right;\">10</td><td style = \"text-align: right;\">43</td><td style = \"text-align: right;\">3</td><td style = \"text-align: right;\">1</td><td style = \"text-align: right;\">2469</td><td style = \"text-align: right;\">32.5</td><td style = \"text-align: right;\">3</td></tr><tr><td class = \"rowNumber\" style = \"font-weight: bold; text-align: right;\">8</td><td style = \"text-align: right;\">4017</td><td style = \"text-align: right;\">4</td><td style = \"text-align: right;\">1.0</td><td style = \"text-align: right;\">1</td><td style = \"text-align: right;\">22</td><td style = \"text-align: right;\">624</td><td style = \"text-align: right;\">3</td><td style = \"text-align: right;\">1</td><td style = \"text-align: right;\">308</td><td style = \"text-align: right;\">0.851253</td><td style = \"text-align: right;\">9</td></tr><tr><td class = \"rowNumber\" style = \"font-weight: bold; text-align: right;\">9</td><td style = \"text-align: right;\">2414</td><td style = \"text-align: right;\">4</td><td style = \"text-align: right;\">1.0</td><td style = \"text-align: right;\">1</td><td style = \"text-align: right;\">22</td><td style = \"text-align: right;\">930</td><td style = \"text-align: right;\">3</td><td style = \"text-align: right;\">1</td><td style = \"text-align: right;\">445</td><td style = \"text-align: right;\">9.87405</td><td style = \"text-align: right;\">9</td></tr><tr><td class = \"rowNumber\" style = \"font-weight: bold; text-align: right;\">10</td><td style = \"text-align: right;\">8723</td><td style = \"text-align: right;\">4</td><td style = \"text-align: right;\">2.0</td><td style = \"text-align: right;\">1</td><td style = \"text-align: right;\">26</td><td style = \"text-align: right;\">635</td><td style = \"text-align: right;\">3</td><td style = \"text-align: right;\">1</td><td style = \"text-align: right;\">630</td><td style = \"text-align: right;\">6.16599</td><td style = \"text-align: right;\">3</td></tr><tr><td class = \"rowNumber\" style = \"font-weight: bold; text-align: right;\">11</td><td style = \"text-align: right;\">728</td><td style = \"text-align: right;\">4</td><td style = \"text-align: right;\">1.0</td><td style = \"text-align: right;\">1</td><td style = \"text-align: right;\">34</td><td style = \"text-align: right;\">568</td><td style = \"text-align: right;\">3</td><td style = \"text-align: right;\">1</td><td style = \"text-align: right;\">356</td><td style = \"text-align: right;\">4.29575</td><td style = \"text-align: right;\">7</td></tr><tr><td class = \"rowNumber\" style = \"font-weight: bold; text-align: right;\">12</td><td style = \"text-align: right;\">3275</td><td style = \"text-align: right;\">4</td><td style = \"text-align: right;\">1.0</td><td style = \"text-align: right;\">1</td><td style = \"text-align: right;\">16</td><td style = \"text-align: right;\">141</td><td style = \"text-align: right;\">3</td><td style = \"text-align: right;\">1</td><td style = \"text-align: right;\">1229</td><td style = \"text-align: right;\">2.96</td><td style = \"text-align: right;\">4</td></tr><tr><td class = \"rowNumber\" style = \"font-weight: bold; text-align: right;\">13</td><td style = \"text-align: right;\">2984</td><td style = \"text-align: right;\">4</td><td style = \"text-align: right;\">1.0</td><td style = \"text-align: right;\">1</td><td style = \"text-align: right;\">21</td><td style = \"text-align: right;\">1459</td><td style = \"text-align: right;\">3</td><td style = \"text-align: right;\">1</td><td style = \"text-align: right;\">410</td><td style = \"text-align: right;\">2.39581</td><td style = \"text-align: right;\">7</td></tr><tr><td style = \"text-align: right;\">&vellip;</td><td style = \"text-align: right;\">&vellip;</td><td style = \"text-align: right;\">&vellip;</td><td style = \"text-align: right;\">&vellip;</td><td style = \"text-align: right;\">&vellip;</td><td style = \"text-align: right;\">&vellip;</td><td style = \"text-align: right;\">&vellip;</td><td style = \"text-align: right;\">&vellip;</td><td style = \"text-align: right;\">&vellip;</td><td style = \"text-align: right;\">&vellip;</td><td style = \"text-align: right;\">&vellip;</td><td style = \"text-align: right;\">&vellip;</td></tr><tr><td class = \"rowNumber\" style = \"font-weight: bold; text-align: right;\">989</td><td style = \"text-align: right;\">7410</td><td style = \"text-align: right;\">4</td><td style = \"text-align: right;\">1.0</td><td style = \"text-align: right;\">1</td><td style = \"text-align: right;\">17</td><td style = \"text-align: right;\">782</td><td style = \"text-align: right;\">12</td><td style = \"text-align: right;\">1</td><td style = \"text-align: right;\">319</td><td style = \"text-align: right;\">2.1</td><td style = \"text-align: right;\">7</td></tr><tr><td class = \"rowNumber\" style = \"font-weight: bold; text-align: right;\">990</td><td style = \"text-align: right;\">4382</td><td style = \"text-align: right;\">4</td><td style = \"text-align: right;\">1.0</td><td style = \"text-align: right;\">1</td><td style = \"text-align: right;\">16</td><td style = \"text-align: right;\">945</td><td style = \"text-align: right;\">3</td><td style = \"text-align: right;\">1</td><td style = \"text-align: right;\">381</td><td style = \"text-align: right;\">11.1972</td><td style = \"text-align: right;\">4</td></tr><tr><td class = \"rowNumber\" style = \"font-weight: bold; text-align: right;\">991</td><td style = \"text-align: right;\">305</td><td style = \"text-align: right;\">4</td><td style = \"text-align: right;\">1.0</td><td style = \"text-align: right;\">1</td><td style = \"text-align: right;\">26</td><td style = \"text-align: right;\">596</td><td style = \"text-align: right;\">3</td><td style = \"text-align: right;\">1</td><td style = \"text-align: right;\">2912</td><td style = \"text-align: right;\">51.06</td><td style = \"text-align: right;\">7</td></tr><tr><td class = \"rowNumber\" style = \"font-weight: bold; text-align: right;\">992</td><td style = \"text-align: right;\">2543</td><td style = \"text-align: right;\">4</td><td style = \"text-align: right;\">1.0</td><td style = \"text-align: right;\">1</td><td style = \"text-align: right;\">16</td><td style = \"text-align: right;\">443</td><td style = \"text-align: right;\">3</td><td style = \"text-align: right;\">1</td><td style = \"text-align: right;\">375</td><td style = \"text-align: right;\">0.169083</td><td style = \"text-align: right;\">4</td></tr><tr><td class = \"rowNumber\" style = \"font-weight: bold; text-align: right;\">993</td><td style = \"text-align: right;\">5125</td><td style = \"text-align: right;\">4</td><td style = \"text-align: right;\">1.0</td><td style = \"text-align: right;\">1</td><td style = \"text-align: right;\">40</td><td style = \"text-align: right;\">926</td><td style = \"text-align: right;\">3</td><td style = \"text-align: right;\">1</td><td style = \"text-align: right;\">278</td><td style = \"text-align: right;\">0.107262</td><td style = \"text-align: right;\">4</td></tr><tr><td class = \"rowNumber\" style = \"font-weight: bold; text-align: right;\">994</td><td style = \"text-align: right;\">5419</td><td style = \"text-align: right;\">4</td><td style = \"text-align: right;\">2.0</td><td style = \"text-align: right;\">1</td><td style = \"text-align: right;\">10</td><td style = \"text-align: right;\">877</td><td style = \"text-align: right;\">3</td><td style = \"text-align: right;\">1</td><td style = \"text-align: right;\">493</td><td style = \"text-align: right;\">17.0324</td><td style = \"text-align: right;\">8</td></tr><tr><td class = \"rowNumber\" style = \"font-weight: bold; text-align: right;\">995</td><td style = \"text-align: right;\">460</td><td style = \"text-align: right;\">4</td><td style = \"text-align: right;\">2.0</td><td style = \"text-align: right;\">1</td><td style = \"text-align: right;\">26</td><td style = \"text-align: right;\">812</td><td style = \"text-align: right;\">3</td><td style = \"text-align: right;\">1</td><td style = \"text-align: right;\">590</td><td style = \"text-align: right;\">7.58</td><td style = \"text-align: right;\">3</td></tr><tr><td class = \"rowNumber\" style = \"font-weight: bold; text-align: right;\">996</td><td style = \"text-align: right;\">4025</td><td style = \"text-align: right;\">4</td><td style = \"text-align: right;\">2.0</td><td style = \"text-align: right;\">1</td><td style = \"text-align: right;\">10</td><td style = \"text-align: right;\">995</td><td style = \"text-align: right;\">3</td><td style = \"text-align: right;\">1</td><td style = \"text-align: right;\">311</td><td style = \"text-align: right;\">1.3848</td><td style = \"text-align: right;\">8</td></tr><tr><td class = \"rowNumber\" style = \"font-weight: bold; text-align: right;\">997</td><td style = \"text-align: right;\">8643</td><td style = \"text-align: right;\">4</td><td style = \"text-align: right;\">1.0</td><td style = \"text-align: right;\">1</td><td style = \"text-align: right;\">16</td><td style = \"text-align: right;\">1197</td><td style = \"text-align: right;\">3</td><td style = \"text-align: right;\">1</td><td style = \"text-align: right;\">294</td><td style = \"text-align: right;\">0.239737</td><td style = \"text-align: right;\">4</td></tr><tr><td class = \"rowNumber\" style = \"font-weight: bold; text-align: right;\">998</td><td style = \"text-align: right;\">5939</td><td style = \"text-align: right;\">4</td><td style = \"text-align: right;\">1.0</td><td style = \"text-align: right;\">1</td><td style = \"text-align: right;\">34</td><td style = \"text-align: right;\">50</td><td style = \"text-align: right;\">3</td><td style = \"text-align: right;\">1</td><td style = \"text-align: right;\">1005</td><td style = \"text-align: right;\">3.62</td><td style = \"text-align: right;\">7</td></tr><tr><td class = \"rowNumber\" style = \"font-weight: bold; text-align: right;\">999</td><td style = \"text-align: right;\">7317</td><td style = \"text-align: right;\">4</td><td style = \"text-align: right;\">2.0</td><td style = \"text-align: right;\">1</td><td style = \"text-align: right;\">26</td><td style = \"text-align: right;\">27</td><td style = \"text-align: right;\">3</td><td style = \"text-align: right;\">1</td><td style = \"text-align: right;\">618</td><td style = \"text-align: right;\">14.0448</td><td style = \"text-align: right;\">3</td></tr><tr><td class = \"rowNumber\" style = \"font-weight: bold; text-align: right;\">1000</td><td style = \"text-align: right;\">3054</td><td style = \"text-align: right;\">4</td><td style = \"text-align: right;\">2.0</td><td style = \"text-align: right;\">1</td><td style = \"text-align: right;\">25</td><td style = \"text-align: right;\">1197</td><td style = \"text-align: right;\">3</td><td style = \"text-align: right;\">1</td><td style = \"text-align: right;\">1286</td><td style = \"text-align: right;\">8.87915</td><td style = \"text-align: right;\">6</td></tr></tbody></table></div>"
      ],
      "text/latex": [
       "\\begin{tabular}{r|cccccccc}\n",
       "\t& Order ID & Origin Port & Carrier & Service Level & Customer & Product ID & Plant Code & \\\\\n",
       "\t\\hline\n",
       "\t& Int64 & Int64 & Float64? & Int64 & Int64 & Int64 & Int64 & \\\\\n",
       "\t\\hline\n",
       "\t1 & 1755 & 4 & 1.0 & 1 & 21 & 1198 & 3 & $\\dots$ \\\\\n",
       "\t2 & 1522 & 4 & 1.0 & 1 & 32 & 259 & 3 & $\\dots$ \\\\\n",
       "\t3 & 5532 & 4 & 1.0 & 1 & 15 & 920 & 3 & $\\dots$ \\\\\n",
       "\t4 & 8228 & 4 & 1.0 & 1 & 35 & 235 & 3 & $\\dots$ \\\\\n",
       "\t5 & 3840 & 4 & 2.0 & 1 & 2 & 394 & 3 & $\\dots$ \\\\\n",
       "\t6 & 5576 & 4 & 1.0 & 1 & 21 & 288 & 3 & $\\dots$ \\\\\n",
       "\t7 & 8086 & 4 & 2.0 & 1 & 10 & 43 & 3 & $\\dots$ \\\\\n",
       "\t8 & 4017 & 4 & 1.0 & 1 & 22 & 624 & 3 & $\\dots$ \\\\\n",
       "\t9 & 2414 & 4 & 1.0 & 1 & 22 & 930 & 3 & $\\dots$ \\\\\n",
       "\t10 & 8723 & 4 & 2.0 & 1 & 26 & 635 & 3 & $\\dots$ \\\\\n",
       "\t11 & 728 & 4 & 1.0 & 1 & 34 & 568 & 3 & $\\dots$ \\\\\n",
       "\t12 & 3275 & 4 & 1.0 & 1 & 16 & 141 & 3 & $\\dots$ \\\\\n",
       "\t13 & 2984 & 4 & 1.0 & 1 & 21 & 1459 & 3 & $\\dots$ \\\\\n",
       "\t14 & 6912 & 4 & 1.0 & 1 & 40 & 429 & 3 & $\\dots$ \\\\\n",
       "\t15 & 3267 & 4 & 1.0 & 1 & 16 & 236 & 3 & $\\dots$ \\\\\n",
       "\t16 & 6936 & 4 & 2.0 & 1 & 26 & 597 & 3 & $\\dots$ \\\\\n",
       "\t17 & 5077 & 4 & 1.0 & 1 & 34 & 151 & 3 & $\\dots$ \\\\\n",
       "\t18 & 2586 & 4 & 1.0 & 1 & 34 & 256 & 3 & $\\dots$ \\\\\n",
       "\t19 & 5244 & 4 & 1.0 & 1 & 34 & 123 & 3 & $\\dots$ \\\\\n",
       "\t20 & 469 & 4 & 1.0 & 1 & 16 & 123 & 3 & $\\dots$ \\\\\n",
       "\t21 & 1115 & 4 & 1.0 & 1 & 27 & 50 & 3 & $\\dots$ \\\\\n",
       "\t22 & 2229 & 4 & 2.0 & 1 & 38 & 1175 & 3 & $\\dots$ \\\\\n",
       "\t23 & 3674 & 4 & 1.0 & 1 & 22 & 31 & 3 & $\\dots$ \\\\\n",
       "\t24 & 8619 & 4 & 2.0 & 1 & 10 & 930 & 3 & $\\dots$ \\\\\n",
       "\t25 & 1092 & 4 & 1.0 & 1 & 35 & 83 & 3 & $\\dots$ \\\\\n",
       "\t26 & 1544 & 4 & 1.0 & 1 & 42 & 276 & 3 & $\\dots$ \\\\\n",
       "\t27 & 935 & 4 & 1.0 & 1 & 32 & 1263 & 3 & $\\dots$ \\\\\n",
       "\t28 & 6895 & 4 & 1.0 & 1 & 32 & 42 & 3 & $\\dots$ \\\\\n",
       "\t29 & 2921 & 4 & 1.0 & 1 & 8 & 880 & 3 & $\\dots$ \\\\\n",
       "\t30 & 6932 & 4 & 1.0 & 1 & 35 & 323 & 3 & $\\dots$ \\\\\n",
       "\t$\\dots$ & $\\dots$ & $\\dots$ & $\\dots$ & $\\dots$ & $\\dots$ & $\\dots$ & $\\dots$ &  \\\\\n",
       "\\end{tabular}\n"
      ],
      "text/plain": [
       "\u001b[1m1000×11 DataFrame\n",
       "\u001b[1m  Row │\u001b[1m Order ID \u001b[1m Origin Port \u001b[1m Carrier  \u001b[1m Service Level \u001b[1m Customer \u001b[1m Product ID \u001b[1m  ⋯\n",
       "      │\u001b[90m Int64    \u001b[90m Int64       \u001b[90m Float64? \u001b[90m Int64         \u001b[90m Int64    \u001b[90m Int64      \u001b[90m  ⋯\n",
       "──────┼─────────────────────────────────────────────────────────────────────────\n",
       "    1 │     1755            4       1.0              1        21        1198   ⋯\n",
       "    2 │     1522            4       1.0              1        32         259\n",
       "    3 │     5532            4       1.0              1        15         920\n",
       "    4 │     8228            4       1.0              1        35         235\n",
       "    5 │     3840            4       2.0              1         2         394   ⋯\n",
       "    6 │     5576            4       1.0              1        21         288\n",
       "    7 │     8086            4       2.0              1        10          43\n",
       "    8 │     4017            4       1.0              1        22         624\n",
       "    9 │     2414            4       1.0              1        22         930   ⋯\n",
       "   10 │     8723            4       2.0              1        26         635\n",
       "   11 │      728            4       1.0              1        34         568\n",
       "  ⋮   │    ⋮           ⋮          ⋮            ⋮           ⋮          ⋮        ⋱\n",
       "  991 │      305            4       1.0              1        26         596\n",
       "  992 │     2543            4       1.0              1        16         443   ⋯\n",
       "  993 │     5125            4       1.0              1        40         926\n",
       "  994 │     5419            4       2.0              1        10         877\n",
       "  995 │      460            4       2.0              1        26         812\n",
       "  996 │     4025            4       2.0              1        10         995   ⋯\n",
       "  997 │     8643            4       1.0              1        16        1197\n",
       "  998 │     5939            4       1.0              1        34          50\n",
       "  999 │     7317            4       2.0              1        26          27\n",
       " 1000 │     3054            4       2.0              1        25        1197   ⋯\n",
       "\u001b[36m                                                  5 columns and 979 rows omitted"
      ]
     },
     "execution_count": 3,
     "metadata": {},
     "output_type": "execute_result"
    }
   ],
   "source": [
    "Random.seed!(88888888)\n",
    "sampled_order_list = rand(1:size(order_list, 1), 1000)\n",
    "order_list = order_list[sampled_order_list, :]"
   ]
  },
  {
   "cell_type": "code",
   "execution_count": 4,
   "metadata": {},
   "outputs": [
    {
     "data": {
      "text/plain": [
       "\"output/order_list_sampled.csv\""
      ]
     },
     "execution_count": 4,
     "metadata": {},
     "output_type": "execute_result"
    }
   ],
   "source": [
    "# output order_list to a csv file\n",
    "CSV.write(\"output/order_list_sampled.csv\", order_list)"
   ]
  },
  {
   "cell_type": "code",
   "execution_count": 5,
   "metadata": {},
   "outputs": [],
   "source": [
    "# Extract information from input data\n",
    "## numbers\n",
    "norder = 1000 # number of all the orders\n",
    "nwarehouse = 19 # number of all the warehouses\n",
    "nfreight = 101 # number of all the freight choices\n",
    "nproduct = 1540 # number of all the products\n",
    "ncustomer = 48 # number of all the customers\n",
    "nwport = 11 # number of all the warehouse ports\n",
    "# Well done!!!\n",
    "\n",
    "## data\n",
    "### from order list sheet\n",
    "s = Vector(order_list[!, \"Service Level\"]) # service level s[k]\n",
    "q = Vector(order_list[!, \"Unit quantity\"]) # product quantity q[k] for order k\n",
    "pro = Vector(order_list[!, \"Product ID\"]) # product id for order k\n",
    "cus = Vector(order_list[!, \"Customer\"]) # customer id for order k\n",
    "ot = Vector(order_list[!, \"Maximum delivery time\"]) # maximum delivery time for order k\n",
    "ow = Vector(order_list[!, \"Weight\"]) # order weight for order k\n",
    "\n",
    "### from freight rates sheet\n",
    "o = Vector(freight_rates[!, \"orig_port_cd\"]) # origin port o[j]\n",
    "d = Vector(freight_rates[!, \"dest_port_cd\"]) # destination port d[j]\n",
    "c = Vector(freight_rates[!, \"Carrier\"]) # Carrier c[j]\n",
    "# a = Vector(freight_rates[!, \"Area\"]) # storage area number a[j]\n",
    "t = Vector(freight_rates[!, \"tpt_day_cnt\"]) # delivery time p[j]\n",
    "m = Vector(freight_rates[!, \"mode_dsc\"]) # transportation mode m[j]\n",
    "r = Vector(freight_rates[!, \"rate\"]) # transportation rate cost per unit product r[j]\n",
    "minc = Vector(freight_rates[!, \"minimum cost\"]); # minimum transportation rate cost per unit product r[j]\n",
    "minw = Vector(freight_rates[!, \"minm_wgh_qty\"]); # minimum transportation weight\n",
    "maxw = Vector(freight_rates[!, \"max_wgh_qty\"]); # maximum transportation weight\n",
    "\n",
    "## from warehouse capacities sheet\n",
    "cap = Vector(wh_capacities[!, \"Daily Capacity\"])\n",
    "\n",
    "## from warehouse costs sheet\n",
    "p = Vector(wh_costs[!, \"Cost/unit\"]) # warehouse p[i]\n",
    "\n",
    "## Big-M\n",
    "M = 1;"
   ]
  },
  {
   "cell_type": "code",
   "execution_count": 6,
   "metadata": {},
   "outputs": [],
   "source": [
    "# create PW_{ui}\n",
    "## create a list for the products per warehouse\n",
    "products_per_warehouse_list = []\n",
    "for i in 1:size(products_per_plant, 1)\n",
    "    push!(products_per_warehouse_list, (products_per_plant[i, 1], products_per_plant[i, 2]))\n",
    "end\n",
    "\n",
    "## create a matrix for the products per plant\n",
    "PW = zeros(Int, nproduct, nwarehouse)\n",
    "for (i, u) in products_per_warehouse_list\n",
    "    PW[u, i] = 1\n",
    "end\n",
    "\n",
    "# create WP_{ie}\n",
    "## create a list for the warehouse port per warehouse\n",
    "warehouse_port_per_warehouse_list = []\n",
    "for i in 1:size(plant_ports, 1)\n",
    "    push!(warehouse_port_per_warehouse_list, (plant_ports[i, 1], plant_ports[i, 2]))\n",
    "end\n",
    "\n",
    "## create a matrix for the warehouse port per warehouse\n",
    "WP = zeros(Int, nwarehouse, nwport)\n",
    "for (i, e) in warehouse_port_per_warehouse_list\n",
    "    WP[i, e] = 1\n",
    "end\n",
    "\n",
    "# create WC_{iv}\n",
    "## create a list for the customers per warehouse\n",
    "customers_per_warehouse_list = []\n",
    "for i in 1:size(vmi_customers, 1)\n",
    "    push!(customers_per_warehouse_list, (vmi_customers[i, 1], vmi_customers[i, 2]))\n",
    "end\n",
    "\n",
    "## create a matrix for the customers per warehouse\n",
    "WC = zeros(Int, nwarehouse, ncustomer)\n",
    "for (i, v) in customers_per_warehouse_list\n",
    "    WC[i, v] = 1\n",
    "end"
   ]
  },
  {
   "cell_type": "code",
   "execution_count": 7,
   "metadata": {},
   "outputs": [
    {
     "name": "stdout",
     "output_type": "stream",
     "text": [
      "Set parameter Username\n",
      "Academic license - for non-commercial use only - expires 2024-08-17\n"
     ]
    },
    {
     "data": {
      "text/plain": [
       "A JuMP Model\n",
       "Feasibility problem with:\n",
       "Variables: 0\n",
       "Model mode: AUTOMATIC\n",
       "CachingOptimizer state: EMPTY_OPTIMIZER\n",
       "Solver name: Gurobi"
      ]
     },
     "execution_count": 7,
     "metadata": {},
     "output_type": "execute_result"
    }
   ],
   "source": [
    "# Build the model\n",
    "# create a model\n",
    "model = Model(Gurobi.Optimizer)"
   ]
  },
  {
   "cell_type": "code",
   "execution_count": 8,
   "metadata": {},
   "outputs": [],
   "source": [
    "# define decision variables\n",
    "@variable(model, X[1:norder, 1:nwarehouse], Bin) # X[k,i] = 1 if order k is assigned to warehouse i\n",
    "@variable(model, Y[1:norder, 1:nfreight], Bin) # Y[k,f] = 1 if order k is assigned to freight f\n",
    "\n",
    "# define other variables\n",
    "@variable(model, TC[1:norder, 1:nfreight]>=0) # Transportation cost TC[k, j] of order k assigned to freight j\n",
    "@variable(model, TCA[1:norder, 1:nfreight]>=0) # Air transportation cost TCA[k, j] of order k assigned to freight j\n",
    "@variable(model, TCG[1:nfreight]>=0) # Ground transportation cost TCG[j] for all routes j\n",
    "@variable(model, z[1:nfreight]>=0);"
   ]
  },
  {
   "cell_type": "markdown",
   "metadata": {},
   "source": [
    "$$\n",
    "\\text{Objective} = \\min (\\text{Warehouse Cost} + \\text{Transportation Cost})\n",
    "$$"
   ]
  },
  {
   "cell_type": "markdown",
   "metadata": {
    "tags": []
   },
   "source": [
    "$$\n",
    "\\min \\sum_{k=1}^{n_{\\text{order}}}\\sum_{i=1}^{n_{\\text{warehouse}}} X_{ki} \\cdot p_{i} \\cdot q_{k} + \\sum_{k=1}^{n_{\\text{order}}}\\sum_{j=1}^{n_{\\text{freight}}} Y_{kj} \\cdot TC_{kj}\n",
    "$$"
   ]
  },
  {
   "cell_type": "code",
   "execution_count": 9,
   "metadata": {},
   "outputs": [],
   "source": [
    "# define the objective function\n",
    "@objective(model, Min, sum(X[k, i] * p[i] * q[k] for i in 1:nwarehouse for k in 1:norder) + sum(Y[k, j] * TC[k, j] for k in 1:norder for j in 1:nfreight));"
   ]
  },
  {
   "cell_type": "markdown",
   "metadata": {},
   "source": [
    "- each order needs to be assigned to a warehouse\n",
    "$$\n",
    "\\sum_{i=1}^{n_{\\text{warehouse}}} X_{ki} = 1, \\forall k\n",
    "$$"
   ]
  },
  {
   "cell_type": "code",
   "execution_count": 10,
   "metadata": {},
   "outputs": [],
   "source": [
    "@constraint(model, warehouse_allocation_constraint[k in 1:norder], sum(X[k,i] for i in 1:nwarehouse) == 1);"
   ]
  },
  {
   "cell_type": "markdown",
   "metadata": {
    "tags": []
   },
   "source": [
    "- each order needs to be assigned to a freight assignment\n",
    "$$\n",
    "\\sum_{j=1}^{n_{\\text{freight}}} Y_{kj} = 1, \\forall k\n",
    "$$"
   ]
  },
  {
   "cell_type": "code",
   "execution_count": 11,
   "metadata": {},
   "outputs": [],
   "source": [
    "@constraint(model, freight_constraint[k in 1:norder], sum(Y[k,j] for j in 1:nfreight) == 1);"
   ]
  },
  {
   "cell_type": "markdown",
   "metadata": {},
   "source": [
    "- each warehouse has a daily order capacity \n",
    "$$\n",
    "\\sum_{k=1}^{n_{\\text{order}}} X_{ki} \\leq cap_{i}, \\forall i\n",
    "$$"
   ]
  },
  {
   "cell_type": "code",
   "execution_count": 12,
   "metadata": {},
   "outputs": [],
   "source": [
    "@constraint(model, order_capacity_constraint[i in 1:nwarehouse], sum(X[k,i] for k in 1:norder) <= cap[i]);"
   ]
  },
  {
   "cell_type": "markdown",
   "metadata": {},
   "source": [
    "- each product can be stored in some warehouses only\n",
    "$$\n",
    "X_{ki} \\leq M(PW_{pro_{k}i}), \\forall k,i\n",
    "$$"
   ]
  },
  {
   "cell_type": "code",
   "execution_count": 13,
   "metadata": {},
   "outputs": [],
   "source": [
    "@constraint(model, warehouse_prod_constraint[k in 1:norder, i in 1:nwarehouse], X[k,i] <= M*PW[pro[k],i]);"
   ]
  },
  {
   "cell_type": "markdown",
   "metadata": {},
   "source": [
    "- some warehouses can only service certain customers\n",
    "$$\n",
    "X_{ki} \\leq M(WC_{icus_{k}}), \\forall k,i\n",
    "$$"
   ]
  },
  {
   "cell_type": "code",
   "execution_count": 14,
   "metadata": {},
   "outputs": [],
   "source": [
    "@constraint(model, warehouse_cus_constraint[k in 1:norder, i in 1:nwarehouse], X[k,i] <= M*WC[i,cus[k]]);"
   ]
  },
  {
   "cell_type": "markdown",
   "metadata": {},
   "source": [
    "- each warehouse can only begin transporting things via some specific warehouse ports\n",
    "$$\n",
    "Y_{kj} \\leq M(1-X_{ki}+WP_{io_{j}}), \\forall k,i,j\n",
    "$$"
   ]
  },
  {
   "cell_type": "code",
   "execution_count": 15,
   "metadata": {},
   "outputs": [],
   "source": [
    "@constraint(model, warehouse_wport_constraint[k in 1:norder, i in 1:nwarehouse, j in 1:nfreight], Y[k,j] <= M*(1-X[k,i]+WP[i,o[j]]));"
   ]
  },
  {
   "cell_type": "markdown",
   "metadata": {},
   "source": [
    "- orders need to be shipped within a certain time to the customer\n",
    "$$\n",
    "\\sum_{j=1}^{n_{\\text{freight}}} Y_{kj} \\cdot t_{j} \\leq ot_{k}, \\forall k\n",
    "$$"
   ]
  },
  {
   "cell_type": "code",
   "execution_count": 16,
   "metadata": {},
   "outputs": [],
   "source": [
    "@constraint(model, shipping_constraint[k in 1:norder], sum(Y[k,j]*t[j] for j in 1:nfreight) <= ot[k]);"
   ]
  },
  {
   "cell_type": "markdown",
   "metadata": {},
   "source": [
    "- for each route via a carrier, different parts of the carrier should meet a maximum weight\n",
    "$$\n",
    "\\sum_{k=1}^{n_{\\text{order}}} Y_{kj} \\cdot ow_{k} \\leq maxw_{j}, \\forall j\n",
    "$$"
   ]
  },
  {
   "cell_type": "code",
   "execution_count": 17,
   "metadata": {},
   "outputs": [],
   "source": [
    "@constraint(model, weight_constraint[j in 1:nfreight], sum(Y[k,j]*ow[k] for k in 1:norder) <= maxw[j]);"
   ]
  },
  {
   "cell_type": "markdown",
   "metadata": {},
   "source": [
    "- total transportation cost\n",
    "$$\n",
    "TC_{kj} \\leq s_{k}[(1-m_{j}) \\cdot TCA_{kj} + m_{j} \\cdot TCG_{j}], \\forall k, j\n",
    "$$"
   ]
  },
  {
   "cell_type": "code",
   "execution_count": 18,
   "metadata": {},
   "outputs": [],
   "source": [
    "@constraint(model, transportation_cost_constraint[k in 1:norder, j in 1:nfreight], TC[k,j] <= s[k]*((1-m[j])*TCA[k,j] + m[j]*TCG[j]));"
   ]
  },
  {
   "cell_type": "markdown",
   "metadata": {},
   "source": [
    "- air transportation cost \n",
    "$$\n",
    "minc_{j} \\leq TCA_{kj}, \\forall k, j\n",
    "$$\n",
    "$$\n",
    "ow_{k} \\cdot r_{j} \\leq TCA_{kj}, \\forall k, j\n",
    "$$"
   ]
  },
  {
   "cell_type": "code",
   "execution_count": 19,
   "metadata": {},
   "outputs": [],
   "source": [
    "@constraint(model, air_mincost_constraint[k in 1:norder, j in 1:nfreight], TCA[k,j] >= minc[j]);\n",
    "@constraint(model, air_minweight_constraint[k in 1:norder, j in 1:nfreight], TCA[k,j] >= ow[k]*r[j]);"
   ]
  },
  {
   "cell_type": "markdown",
   "metadata": {},
   "source": [
    "- ground transportation cost\n",
    "$$\n",
    "z_{j}r_{j} \\leq TCG_{j}, \\forall j\n",
    "$$\n",
    "$$\n",
    "z_{j} \\leq \\sum_{k=1}^{n_{\\text{order}}} Y_{kj}, \\forall j\n",
    "$$\n",
    "$$\n",
    "Y_{kj} \\leq z_{j}, \\forall k, j\n",
    "$$"
   ]
  },
  {
   "cell_type": "code",
   "execution_count": 20,
   "metadata": {},
   "outputs": [],
   "source": [
    "@constraint(model, ground_cost_constraint1[j in 1:nfreight], z[j]*r[j] <= TCG[j]);\n",
    "@constraint(model, ground_cost_constraint2[j in 1:nfreight], z[j] <= sum(Y[k,j] for k in 1:norder));\n",
    "@constraint(model, ground_cost_constraint3[k in 1:norder, j in 1:nfreight], z[j] >= Y[k,j]);"
   ]
  },
  {
   "cell_type": "code",
   "execution_count": 21,
   "metadata": {},
   "outputs": [
    {
     "name": "stdout",
     "output_type": "stream",
     "text": [
      "Gurobi Optimizer version 10.0.2 build v10.0.2rc0 (mac64[arm])\n",
      "\n",
      "CPU model: Apple M2 Pro\n",
      "Thread count: 12 physical cores, 12 logical processors, using up to 12 threads\n",
      "\n",
      "Optimize a model with 2364322 rows, 322202 columns and 4912698 nonzeros\n",
      "Model fingerprint: 0x2af5111c\n",
      "Model has 101000 quadratic objective terms\n",
      "Variable types: 202202 continuous, 120000 integer (120000 binary)\n",
      "Coefficient statistics:\n",
      "  Matrix range     [3e-03, 8e+02]\n",
      "  Objective range  [9e+01, 8e+05]\n",
      "  QObjective range [2e+00, 2e+00]\n",
      "  Bounds range     [0e+00, 0e+00]\n",
      "  RHS range        [1e-04, 1e+05]\n",
      "Presolve removed 2364321 rows and 322098 columns\n",
      "Presolve time: 1.06s\n",
      "Presolved: 1 rows, 104 columns, 104 nonzeros\n",
      "Variable types: 0 continuous, 104 integer (88 binary)\n",
      "Found heuristic solution: objective 5369524.6679\n",
      "\n",
      "Root relaxation: objective 5.365567e+06, 1 iterations, 0.00 seconds (0.00 work units)\n",
      "\n",
      "    Nodes    |    Current Node    |     Objective Bounds      |     Work\n",
      " Expl Unexpl |  Obj  Depth IntInf | Incumbent    BestBd   Gap | It/Node Time\n",
      "\n",
      "*    0     0               0    5365566.5646 5365566.56  0.00%     -    1s\n",
      "\n",
      "Explored 1 nodes (1 simplex iterations) in 1.38 seconds (4.08 work units)\n",
      "Thread count was 12 (of 12 available processors)\n",
      "\n",
      "Solution count 2: 5.36557e+06 5.36952e+06 \n",
      "\n",
      "Optimal solution found (tolerance 1.00e-04)\n",
      "Best objective 5.365566564603e+06, best bound 5.365566564603e+06, gap 0.0000%\n",
      "\n",
      "User-callback calls 2590, time in user-callback 0.00 sec\n"
     ]
    }
   ],
   "source": [
    "# solve the model\n",
    "optimize!(model)"
   ]
  },
  {
   "cell_type": "code",
   "execution_count": 22,
   "metadata": {},
   "outputs": [
    {
     "data": {
      "text/plain": [
       "5.365566564603369e6"
      ]
     },
     "execution_count": 22,
     "metadata": {},
     "output_type": "execute_result"
    }
   ],
   "source": [
    "# # Retrieve the objective value\n",
    "objective = JuMP.objective_value(model)"
   ]
  },
  {
   "cell_type": "code",
   "execution_count": 23,
   "metadata": {
    "tags": []
   },
   "outputs": [],
   "source": [
    "# # Retrieve the solution\n",
    "solution_X = JuMP.value.(X)\n",
    "solution_Y = JuMP.value.(Y);"
   ]
  },
  {
   "cell_type": "code",
   "execution_count": 24,
   "metadata": {},
   "outputs": [
    {
     "data": {
      "text/html": [
       "<div><div style = \"float: left;\"><span>1000×6 DataFrame</span></div><div style = \"float: right;\"><span style = \"font-style: italic;\">975 rows omitted</span></div><div style = \"clear: both;\"></div></div><div class = \"data-frame\" style = \"overflow-x: scroll;\"><table class = \"data-frame\" style = \"margin-bottom: 6px;\"><thead><tr class = \"header\"><th class = \"rowNumber\" style = \"font-weight: bold; text-align: right;\">Row</th><th style = \"text-align: left;\">order_id</th><th style = \"text-align: left;\">customer_id</th><th style = \"text-align: left;\">warehouse_id</th><th style = \"text-align: left;\">warehouse_port_id</th><th style = \"text-align: left;\">carrier_id</th><th style = \"text-align: left;\">customer_port_id</th></tr><tr class = \"subheader headerLastRow\"><th class = \"rowNumber\" style = \"font-weight: bold; text-align: right;\"></th><th title = \"Int64\" style = \"text-align: left;\">Int64</th><th title = \"Int64\" style = \"text-align: left;\">Int64</th><th title = \"Int64\" style = \"text-align: left;\">Int64</th><th title = \"Int64\" style = \"text-align: left;\">Int64</th><th title = \"Int64\" style = \"text-align: left;\">Int64</th><th title = \"Int64\" style = \"text-align: left;\">Int64</th></tr></thead><tbody><tr><td class = \"rowNumber\" style = \"font-weight: bold; text-align: right;\">1</td><td style = \"text-align: right;\">1755</td><td style = \"text-align: right;\">21</td><td style = \"text-align: right;\">4</td><td style = \"text-align: right;\">5</td><td style = \"text-align: right;\">2</td><td style = \"text-align: right;\">1</td></tr><tr><td class = \"rowNumber\" style = \"font-weight: bold; text-align: right;\">2</td><td style = \"text-align: right;\">1522</td><td style = \"text-align: right;\">32</td><td style = \"text-align: right;\">3</td><td style = \"text-align: right;\">4</td><td style = \"text-align: right;\">1</td><td style = \"text-align: right;\">1</td></tr><tr><td class = \"rowNumber\" style = \"font-weight: bold; text-align: right;\">3</td><td style = \"text-align: right;\">5532</td><td style = \"text-align: right;\">15</td><td style = \"text-align: right;\">3</td><td style = \"text-align: right;\">4</td><td style = \"text-align: right;\">1</td><td style = \"text-align: right;\">1</td></tr><tr><td class = \"rowNumber\" style = \"font-weight: bold; text-align: right;\">4</td><td style = \"text-align: right;\">8228</td><td style = \"text-align: right;\">35</td><td style = \"text-align: right;\">3</td><td style = \"text-align: right;\">4</td><td style = \"text-align: right;\">1</td><td style = \"text-align: right;\">1</td></tr><tr><td class = \"rowNumber\" style = \"font-weight: bold; text-align: right;\">5</td><td style = \"text-align: right;\">3840</td><td style = \"text-align: right;\">2</td><td style = \"text-align: right;\">3</td><td style = \"text-align: right;\">4</td><td style = \"text-align: right;\">1</td><td style = \"text-align: right;\">1</td></tr><tr><td class = \"rowNumber\" style = \"font-weight: bold; text-align: right;\">6</td><td style = \"text-align: right;\">5576</td><td style = \"text-align: right;\">21</td><td style = \"text-align: right;\">3</td><td style = \"text-align: right;\">4</td><td style = \"text-align: right;\">1</td><td style = \"text-align: right;\">1</td></tr><tr><td class = \"rowNumber\" style = \"font-weight: bold; text-align: right;\">7</td><td style = \"text-align: right;\">8086</td><td style = \"text-align: right;\">10</td><td style = \"text-align: right;\">3</td><td style = \"text-align: right;\">4</td><td style = \"text-align: right;\">1</td><td style = \"text-align: right;\">1</td></tr><tr><td class = \"rowNumber\" style = \"font-weight: bold; text-align: right;\">8</td><td style = \"text-align: right;\">4017</td><td style = \"text-align: right;\">22</td><td style = \"text-align: right;\">11</td><td style = \"text-align: right;\">4</td><td style = \"text-align: right;\">1</td><td style = \"text-align: right;\">1</td></tr><tr><td class = \"rowNumber\" style = \"font-weight: bold; text-align: right;\">9</td><td style = \"text-align: right;\">2414</td><td style = \"text-align: right;\">22</td><td style = \"text-align: right;\">11</td><td style = \"text-align: right;\">4</td><td style = \"text-align: right;\">1</td><td style = \"text-align: right;\">1</td></tr><tr><td class = \"rowNumber\" style = \"font-weight: bold; text-align: right;\">10</td><td style = \"text-align: right;\">8723</td><td style = \"text-align: right;\">26</td><td style = \"text-align: right;\">3</td><td style = \"text-align: right;\">4</td><td style = \"text-align: right;\">1</td><td style = \"text-align: right;\">1</td></tr><tr><td class = \"rowNumber\" style = \"font-weight: bold; text-align: right;\">11</td><td style = \"text-align: right;\">728</td><td style = \"text-align: right;\">34</td><td style = \"text-align: right;\">11</td><td style = \"text-align: right;\">4</td><td style = \"text-align: right;\">1</td><td style = \"text-align: right;\">1</td></tr><tr><td class = \"rowNumber\" style = \"font-weight: bold; text-align: right;\">12</td><td style = \"text-align: right;\">3275</td><td style = \"text-align: right;\">16</td><td style = \"text-align: right;\">3</td><td style = \"text-align: right;\">4</td><td style = \"text-align: right;\">1</td><td style = \"text-align: right;\">1</td></tr><tr><td class = \"rowNumber\" style = \"font-weight: bold; text-align: right;\">13</td><td style = \"text-align: right;\">2984</td><td style = \"text-align: right;\">21</td><td style = \"text-align: right;\">4</td><td style = \"text-align: right;\">5</td><td style = \"text-align: right;\">4</td><td style = \"text-align: right;\">1</td></tr><tr><td style = \"text-align: right;\">&vellip;</td><td style = \"text-align: right;\">&vellip;</td><td style = \"text-align: right;\">&vellip;</td><td style = \"text-align: right;\">&vellip;</td><td style = \"text-align: right;\">&vellip;</td><td style = \"text-align: right;\">&vellip;</td><td style = \"text-align: right;\">&vellip;</td></tr><tr><td class = \"rowNumber\" style = \"font-weight: bold; text-align: right;\">989</td><td style = \"text-align: right;\">7410</td><td style = \"text-align: right;\">17</td><td style = \"text-align: right;\">12</td><td style = \"text-align: right;\">4</td><td style = \"text-align: right;\">1</td><td style = \"text-align: right;\">1</td></tr><tr><td class = \"rowNumber\" style = \"font-weight: bold; text-align: right;\">990</td><td style = \"text-align: right;\">4382</td><td style = \"text-align: right;\">16</td><td style = \"text-align: right;\">11</td><td style = \"text-align: right;\">4</td><td style = \"text-align: right;\">1</td><td style = \"text-align: right;\">1</td></tr><tr><td class = \"rowNumber\" style = \"font-weight: bold; text-align: right;\">991</td><td style = \"text-align: right;\">305</td><td style = \"text-align: right;\">26</td><td style = \"text-align: right;\">3</td><td style = \"text-align: right;\">4</td><td style = \"text-align: right;\">1</td><td style = \"text-align: right;\">1</td></tr><tr><td class = \"rowNumber\" style = \"font-weight: bold; text-align: right;\">992</td><td style = \"text-align: right;\">2543</td><td style = \"text-align: right;\">16</td><td style = \"text-align: right;\">3</td><td style = \"text-align: right;\">4</td><td style = \"text-align: right;\">1</td><td style = \"text-align: right;\">1</td></tr><tr><td class = \"rowNumber\" style = \"font-weight: bold; text-align: right;\">993</td><td style = \"text-align: right;\">5125</td><td style = \"text-align: right;\">40</td><td style = \"text-align: right;\">11</td><td style = \"text-align: right;\">4</td><td style = \"text-align: right;\">1</td><td style = \"text-align: right;\">1</td></tr><tr><td class = \"rowNumber\" style = \"font-weight: bold; text-align: right;\">994</td><td style = \"text-align: right;\">5419</td><td style = \"text-align: right;\">10</td><td style = \"text-align: right;\">2</td><td style = \"text-align: right;\">3</td><td style = \"text-align: right;\">5</td><td style = \"text-align: right;\">1</td></tr><tr><td class = \"rowNumber\" style = \"font-weight: bold; text-align: right;\">995</td><td style = \"text-align: right;\">460</td><td style = \"text-align: right;\">26</td><td style = \"text-align: right;\">3</td><td style = \"text-align: right;\">4</td><td style = \"text-align: right;\">1</td><td style = \"text-align: right;\">1</td></tr><tr><td class = \"rowNumber\" style = \"font-weight: bold; text-align: right;\">996</td><td style = \"text-align: right;\">4025</td><td style = \"text-align: right;\">10</td><td style = \"text-align: right;\">11</td><td style = \"text-align: right;\">4</td><td style = \"text-align: right;\">2</td><td style = \"text-align: right;\">1</td></tr><tr><td class = \"rowNumber\" style = \"font-weight: bold; text-align: right;\">997</td><td style = \"text-align: right;\">8643</td><td style = \"text-align: right;\">16</td><td style = \"text-align: right;\">4</td><td style = \"text-align: right;\">5</td><td style = \"text-align: right;\">5</td><td style = \"text-align: right;\">1</td></tr><tr><td class = \"rowNumber\" style = \"font-weight: bold; text-align: right;\">998</td><td style = \"text-align: right;\">5939</td><td style = \"text-align: right;\">34</td><td style = \"text-align: right;\">3</td><td style = \"text-align: right;\">4</td><td style = \"text-align: right;\">1</td><td style = \"text-align: right;\">1</td></tr><tr><td class = \"rowNumber\" style = \"font-weight: bold; text-align: right;\">999</td><td style = \"text-align: right;\">7317</td><td style = \"text-align: right;\">26</td><td style = \"text-align: right;\">3</td><td style = \"text-align: right;\">4</td><td style = \"text-align: right;\">1</td><td style = \"text-align: right;\">1</td></tr><tr><td class = \"rowNumber\" style = \"font-weight: bold; text-align: right;\">1000</td><td style = \"text-align: right;\">3054</td><td style = \"text-align: right;\">25</td><td style = \"text-align: right;\">4</td><td style = \"text-align: right;\">5</td><td style = \"text-align: right;\">4</td><td style = \"text-align: right;\">1</td></tr></tbody></table></div>"
      ],
      "text/latex": [
       "\\begin{tabular}{r|cccccc}\n",
       "\t& order\\_id & customer\\_id & warehouse\\_id & warehouse\\_port\\_id & carrier\\_id & customer\\_port\\_id\\\\\n",
       "\t\\hline\n",
       "\t& Int64 & Int64 & Int64 & Int64 & Int64 & Int64\\\\\n",
       "\t\\hline\n",
       "\t1 & 1755 & 21 & 4 & 5 & 2 & 1 \\\\\n",
       "\t2 & 1522 & 32 & 3 & 4 & 1 & 1 \\\\\n",
       "\t3 & 5532 & 15 & 3 & 4 & 1 & 1 \\\\\n",
       "\t4 & 8228 & 35 & 3 & 4 & 1 & 1 \\\\\n",
       "\t5 & 3840 & 2 & 3 & 4 & 1 & 1 \\\\\n",
       "\t6 & 5576 & 21 & 3 & 4 & 1 & 1 \\\\\n",
       "\t7 & 8086 & 10 & 3 & 4 & 1 & 1 \\\\\n",
       "\t8 & 4017 & 22 & 11 & 4 & 1 & 1 \\\\\n",
       "\t9 & 2414 & 22 & 11 & 4 & 1 & 1 \\\\\n",
       "\t10 & 8723 & 26 & 3 & 4 & 1 & 1 \\\\\n",
       "\t11 & 728 & 34 & 11 & 4 & 1 & 1 \\\\\n",
       "\t12 & 3275 & 16 & 3 & 4 & 1 & 1 \\\\\n",
       "\t13 & 2984 & 21 & 4 & 5 & 4 & 1 \\\\\n",
       "\t14 & 6912 & 40 & 3 & 4 & 1 & 1 \\\\\n",
       "\t15 & 3267 & 16 & 3 & 4 & 1 & 1 \\\\\n",
       "\t16 & 6936 & 26 & 3 & 4 & 1 & 1 \\\\\n",
       "\t17 & 5077 & 34 & 3 & 4 & 1 & 1 \\\\\n",
       "\t18 & 2586 & 34 & 3 & 4 & 1 & 1 \\\\\n",
       "\t19 & 5244 & 34 & 3 & 4 & 1 & 1 \\\\\n",
       "\t20 & 469 & 16 & 3 & 4 & 1 & 1 \\\\\n",
       "\t21 & 1115 & 27 & 3 & 4 & 1 & 1 \\\\\n",
       "\t22 & 2229 & 38 & 4 & 5 & 5 & 1 \\\\\n",
       "\t23 & 3674 & 22 & 3 & 4 & 1 & 1 \\\\\n",
       "\t24 & 8619 & 10 & 2 & 3 & 5 & 1 \\\\\n",
       "\t25 & 1092 & 35 & 3 & 4 & 1 & 1 \\\\\n",
       "\t26 & 1544 & 42 & 3 & 4 & 1 & 1 \\\\\n",
       "\t27 & 935 & 32 & 5 & 6 & 5 & 1 \\\\\n",
       "\t28 & 6895 & 32 & 3 & 4 & 1 & 1 \\\\\n",
       "\t29 & 2921 & 8 & 10 & 2 & 2 & 1 \\\\\n",
       "\t30 & 6932 & 35 & 3 & 4 & 1 & 1 \\\\\n",
       "\t$\\dots$ & $\\dots$ & $\\dots$ & $\\dots$ & $\\dots$ & $\\dots$ & $\\dots$ \\\\\n",
       "\\end{tabular}\n"
      ],
      "text/plain": [
       "\u001b[1m1000×6 DataFrame\n",
       "\u001b[1m  Row │\u001b[1m order_id \u001b[1m customer_id \u001b[1m warehouse_id \u001b[1m warehouse_port_id \u001b[1m carrier_id \u001b[1m cu ⋯\n",
       "      │\u001b[90m Int64    \u001b[90m Int64       \u001b[90m Int64        \u001b[90m Int64             \u001b[90m Int64      \u001b[90m In ⋯\n",
       "──────┼─────────────────────────────────────────────────────────────────────────\n",
       "    1 │     1755           21             4                  5           2     ⋯\n",
       "    2 │     1522           32             3                  4           1\n",
       "    3 │     5532           15             3                  4           1\n",
       "    4 │     8228           35             3                  4           1\n",
       "    5 │     3840            2             3                  4           1     ⋯\n",
       "    6 │     5576           21             3                  4           1\n",
       "    7 │     8086           10             3                  4           1\n",
       "    8 │     4017           22            11                  4           1\n",
       "    9 │     2414           22            11                  4           1     ⋯\n",
       "   10 │     8723           26             3                  4           1\n",
       "   11 │      728           34            11                  4           1\n",
       "  ⋮   │    ⋮           ⋮            ⋮                ⋮              ⋮          ⋱\n",
       "  991 │      305           26             3                  4           1\n",
       "  992 │     2543           16             3                  4           1     ⋯\n",
       "  993 │     5125           40            11                  4           1\n",
       "  994 │     5419           10             2                  3           5\n",
       "  995 │      460           26             3                  4           1\n",
       "  996 │     4025           10            11                  4           2     ⋯\n",
       "  997 │     8643           16             4                  5           5\n",
       "  998 │     5939           34             3                  4           1\n",
       "  999 │     7317           26             3                  4           1\n",
       " 1000 │     3054           25             4                  5           4     ⋯\n",
       "\u001b[36m                                                   1 column and 979 rows omitted"
      ]
     },
     "execution_count": 24,
     "metadata": {},
     "output_type": "execute_result"
    }
   ],
   "source": [
    "# Extract information from the solution\n",
    "# create a dataframe for the solution\n",
    "solution = DataFrame(order_id = zeros(Int, norder),\n",
    "                     customer_id = zeros(Int, norder),\n",
    "                     warehouse_id = zeros(Int, norder),\n",
    "                     warehouse_port_id = zeros(Int, norder),\n",
    "                     carrier_id = zeros(Int, norder),\n",
    "                     customer_port_id = ones(Int, norder)\n",
    "                     )\n",
    "\n",
    "# get the order id for each order\n",
    "for i in 1:norder\n",
    "    solution[i, 1] = order_list[i, 1]\n",
    "end\n",
    "                     \n",
    "# get the customer id for each order\n",
    "for i in 1:norder\n",
    "    solution[i, 2] = cus[i]\n",
    "end\n",
    "\n",
    "\n",
    "# get the warehouse that each order is assigned to\n",
    "for i in 1:norder\n",
    "    for j in 1:nwarehouse\n",
    "        if solution_X[i, j] == 1\n",
    "            solution[i, 3] = j\n",
    "            break\n",
    "        end\n",
    "    end\n",
    "end\n",
    "\n",
    "# get the warehouse port that each order is assigned to\n",
    "for i in 1:norder\n",
    "    for j in 1:nfreight\n",
    "        if solution_Y[i, j] == 1\n",
    "            solution[i, 4] = o[j]\n",
    "            break\n",
    "        end\n",
    "    end\n",
    "end\n",
    "\n",
    "# get the carrier that each order is assigned to\n",
    "for i in 1:norder\n",
    "    for j in 1:nfreight\n",
    "        if solution_Y[i, j] == 1\n",
    "            solution[i, 5] = c[j]\n",
    "            break\n",
    "        end\n",
    "    end\n",
    "end\n",
    "\n",
    "# show result\n",
    "solution"
   ]
  },
  {
   "cell_type": "code",
   "execution_count": 25,
   "metadata": {},
   "outputs": [
    {
     "data": {
      "text/plain": [
       "\"output/solution.csv\""
      ]
     },
     "execution_count": 25,
     "metadata": {},
     "output_type": "execute_result"
    }
   ],
   "source": [
    "CSV.write(\"output/solution.csv\", solution)"
   ]
  },
  {
   "cell_type": "code",
   "execution_count": null,
   "metadata": {},
   "outputs": [],
   "source": []
  }
 ],
 "metadata": {
  "kernelspec": {
   "display_name": "Julia 1.9.3",
   "language": "julia",
   "name": "julia-1.9"
  },
  "language_info": {
   "file_extension": ".jl",
   "mimetype": "application/julia",
   "name": "julia",
   "version": "1.9.3"
  }
 },
 "nbformat": 4,
 "nbformat_minor": 4
}
